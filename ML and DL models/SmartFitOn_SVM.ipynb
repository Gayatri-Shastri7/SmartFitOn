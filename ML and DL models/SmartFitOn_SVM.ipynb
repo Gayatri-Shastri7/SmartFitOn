{
  "cells": [
    {
      "cell_type": "markdown",
      "metadata": {
        "id": "Xoxrww8qNsYC"
      },
      "source": [
        "## 0. Import Packages"
      ]
    },
    {
      "cell_type": "code",
      "execution_count": 1,
      "metadata": {
        "collapsed": true,
        "id": "tpN02zeFNsYF"
      },
      "outputs": [],
      "source": [
        "import numpy as np\n",
        "import pandas as pd\n",
        "import seaborn as sns\n",
        "import matplotlib.pyplot as plt\n",
        "\n",
        "%matplotlib inline"
      ]
    },
    {
      "cell_type": "code",
      "execution_count": 2,
      "metadata": {
        "collapsed": true,
        "id": "ndH3E_IQNsYH"
      },
      "outputs": [],
      "source": [
        "from sklearn.svm import SVC\n",
        "from sklearn.metrics import accuracy_score"
      ]
    },
    {
      "cell_type": "code",
      "source": [
        "from google.colab import drive\n",
        "drive.mount('/content/drive')"
      ],
      "metadata": {
        "colab": {
          "base_uri": "https://localhost:8080/"
        },
        "id": "Wmd6n-P0NwBM",
        "outputId": "1cf7ff41-2f5f-4369-bec0-773a57c7ce1a"
      },
      "execution_count": 3,
      "outputs": [
        {
          "output_type": "stream",
          "name": "stdout",
          "text": [
            "Mounted at /content/drive\n"
          ]
        }
      ]
    },
    {
      "cell_type": "markdown",
      "metadata": {
        "id": "psZrSYSmNsYI"
      },
      "source": [
        "## 1. Import Data"
      ]
    },
    {
      "cell_type": "code",
      "execution_count": 4,
      "metadata": {
        "colab": {
          "base_uri": "https://localhost:8080/"
        },
        "id": "iMWDGbmmNsYI",
        "outputId": "0a9915a9-59eb-443a-9c60-fa8bddf79e09"
      },
      "outputs": [
        {
          "output_type": "stream",
          "name": "stdout",
          "text": [
            "(7352, 563) (2947, 563)\n"
          ]
        }
      ],
      "source": [
        "train = pd.read_csv('/content/drive/MyDrive/Dataset/Dataset/train.csv')\n",
        "test = pd.read_csv('/content/drive/MyDrive/Dataset/Dataset/test.csv')\n",
        "print(train.shape,test.shape)"
      ]
    },
    {
      "cell_type": "code",
      "execution_count": 5,
      "metadata": {
        "colab": {
          "base_uri": "https://localhost:8080/",
          "height": 317
        },
        "id": "XwHZTt9uNsYJ",
        "outputId": "73d79164-e819-4a92-c331-732e68024c98"
      },
      "outputs": [
        {
          "output_type": "execute_result",
          "data": {
            "text/plain": [
              "   tBodyAcc-mean()-X  tBodyAcc-mean()-Y  tBodyAcc-mean()-Z  tBodyAcc-std()-X  \\\n",
              "0           0.288585          -0.020294          -0.132905         -0.995279   \n",
              "1           0.278419          -0.016411          -0.123520         -0.998245   \n",
              "2           0.279653          -0.019467          -0.113462         -0.995380   \n",
              "3           0.279174          -0.026201          -0.123283         -0.996091   \n",
              "4           0.276629          -0.016570          -0.115362         -0.998139   \n",
              "\n",
              "   tBodyAcc-std()-Y  tBodyAcc-std()-Z  tBodyAcc-mad()-X  tBodyAcc-mad()-Y  \\\n",
              "0         -0.983111         -0.913526         -0.995112         -0.983185   \n",
              "1         -0.975300         -0.960322         -0.998807         -0.974914   \n",
              "2         -0.967187         -0.978944         -0.996520         -0.963668   \n",
              "3         -0.983403         -0.990675         -0.997099         -0.982750   \n",
              "4         -0.980817         -0.990482         -0.998321         -0.979672   \n",
              "\n",
              "   tBodyAcc-mad()-Z  tBodyAcc-max()-X  ...  fBodyBodyGyroJerkMag-kurtosis()  \\\n",
              "0         -0.923527         -0.934724  ...                        -0.710304   \n",
              "1         -0.957686         -0.943068  ...                        -0.861499   \n",
              "2         -0.977469         -0.938692  ...                        -0.760104   \n",
              "3         -0.989302         -0.938692  ...                        -0.482845   \n",
              "4         -0.990441         -0.942469  ...                        -0.699205   \n",
              "\n",
              "   angle(tBodyAccMean,gravity)  angle(tBodyAccJerkMean),gravityMean)  \\\n",
              "0                    -0.112754                              0.030400   \n",
              "1                     0.053477                             -0.007435   \n",
              "2                    -0.118559                              0.177899   \n",
              "3                    -0.036788                             -0.012892   \n",
              "4                     0.123320                              0.122542   \n",
              "\n",
              "   angle(tBodyGyroMean,gravityMean)  angle(tBodyGyroJerkMean,gravityMean)  \\\n",
              "0                         -0.464761                             -0.018446   \n",
              "1                         -0.732626                              0.703511   \n",
              "2                          0.100699                              0.808529   \n",
              "3                          0.640011                             -0.485366   \n",
              "4                          0.693578                             -0.615971   \n",
              "\n",
              "   angle(X,gravityMean)  angle(Y,gravityMean)  angle(Z,gravityMean)  subject  \\\n",
              "0             -0.841247              0.179941             -0.058627        1   \n",
              "1             -0.844788              0.180289             -0.054317        1   \n",
              "2             -0.848933              0.180637             -0.049118        1   \n",
              "3             -0.848649              0.181935             -0.047663        1   \n",
              "4             -0.847865              0.185151             -0.043892        1   \n",
              "\n",
              "   Activity  \n",
              "0  STANDING  \n",
              "1  STANDING  \n",
              "2  STANDING  \n",
              "3  STANDING  \n",
              "4  STANDING  \n",
              "\n",
              "[5 rows x 563 columns]"
            ],
            "text/html": [
              "\n",
              "  <div id=\"df-bb877214-b7d3-408e-bffd-c0f76a39d7b9\">\n",
              "    <div class=\"colab-df-container\">\n",
              "      <div>\n",
              "<style scoped>\n",
              "    .dataframe tbody tr th:only-of-type {\n",
              "        vertical-align: middle;\n",
              "    }\n",
              "\n",
              "    .dataframe tbody tr th {\n",
              "        vertical-align: top;\n",
              "    }\n",
              "\n",
              "    .dataframe thead th {\n",
              "        text-align: right;\n",
              "    }\n",
              "</style>\n",
              "<table border=\"1\" class=\"dataframe\">\n",
              "  <thead>\n",
              "    <tr style=\"text-align: right;\">\n",
              "      <th></th>\n",
              "      <th>tBodyAcc-mean()-X</th>\n",
              "      <th>tBodyAcc-mean()-Y</th>\n",
              "      <th>tBodyAcc-mean()-Z</th>\n",
              "      <th>tBodyAcc-std()-X</th>\n",
              "      <th>tBodyAcc-std()-Y</th>\n",
              "      <th>tBodyAcc-std()-Z</th>\n",
              "      <th>tBodyAcc-mad()-X</th>\n",
              "      <th>tBodyAcc-mad()-Y</th>\n",
              "      <th>tBodyAcc-mad()-Z</th>\n",
              "      <th>tBodyAcc-max()-X</th>\n",
              "      <th>...</th>\n",
              "      <th>fBodyBodyGyroJerkMag-kurtosis()</th>\n",
              "      <th>angle(tBodyAccMean,gravity)</th>\n",
              "      <th>angle(tBodyAccJerkMean),gravityMean)</th>\n",
              "      <th>angle(tBodyGyroMean,gravityMean)</th>\n",
              "      <th>angle(tBodyGyroJerkMean,gravityMean)</th>\n",
              "      <th>angle(X,gravityMean)</th>\n",
              "      <th>angle(Y,gravityMean)</th>\n",
              "      <th>angle(Z,gravityMean)</th>\n",
              "      <th>subject</th>\n",
              "      <th>Activity</th>\n",
              "    </tr>\n",
              "  </thead>\n",
              "  <tbody>\n",
              "    <tr>\n",
              "      <th>0</th>\n",
              "      <td>0.288585</td>\n",
              "      <td>-0.020294</td>\n",
              "      <td>-0.132905</td>\n",
              "      <td>-0.995279</td>\n",
              "      <td>-0.983111</td>\n",
              "      <td>-0.913526</td>\n",
              "      <td>-0.995112</td>\n",
              "      <td>-0.983185</td>\n",
              "      <td>-0.923527</td>\n",
              "      <td>-0.934724</td>\n",
              "      <td>...</td>\n",
              "      <td>-0.710304</td>\n",
              "      <td>-0.112754</td>\n",
              "      <td>0.030400</td>\n",
              "      <td>-0.464761</td>\n",
              "      <td>-0.018446</td>\n",
              "      <td>-0.841247</td>\n",
              "      <td>0.179941</td>\n",
              "      <td>-0.058627</td>\n",
              "      <td>1</td>\n",
              "      <td>STANDING</td>\n",
              "    </tr>\n",
              "    <tr>\n",
              "      <th>1</th>\n",
              "      <td>0.278419</td>\n",
              "      <td>-0.016411</td>\n",
              "      <td>-0.123520</td>\n",
              "      <td>-0.998245</td>\n",
              "      <td>-0.975300</td>\n",
              "      <td>-0.960322</td>\n",
              "      <td>-0.998807</td>\n",
              "      <td>-0.974914</td>\n",
              "      <td>-0.957686</td>\n",
              "      <td>-0.943068</td>\n",
              "      <td>...</td>\n",
              "      <td>-0.861499</td>\n",
              "      <td>0.053477</td>\n",
              "      <td>-0.007435</td>\n",
              "      <td>-0.732626</td>\n",
              "      <td>0.703511</td>\n",
              "      <td>-0.844788</td>\n",
              "      <td>0.180289</td>\n",
              "      <td>-0.054317</td>\n",
              "      <td>1</td>\n",
              "      <td>STANDING</td>\n",
              "    </tr>\n",
              "    <tr>\n",
              "      <th>2</th>\n",
              "      <td>0.279653</td>\n",
              "      <td>-0.019467</td>\n",
              "      <td>-0.113462</td>\n",
              "      <td>-0.995380</td>\n",
              "      <td>-0.967187</td>\n",
              "      <td>-0.978944</td>\n",
              "      <td>-0.996520</td>\n",
              "      <td>-0.963668</td>\n",
              "      <td>-0.977469</td>\n",
              "      <td>-0.938692</td>\n",
              "      <td>...</td>\n",
              "      <td>-0.760104</td>\n",
              "      <td>-0.118559</td>\n",
              "      <td>0.177899</td>\n",
              "      <td>0.100699</td>\n",
              "      <td>0.808529</td>\n",
              "      <td>-0.848933</td>\n",
              "      <td>0.180637</td>\n",
              "      <td>-0.049118</td>\n",
              "      <td>1</td>\n",
              "      <td>STANDING</td>\n",
              "    </tr>\n",
              "    <tr>\n",
              "      <th>3</th>\n",
              "      <td>0.279174</td>\n",
              "      <td>-0.026201</td>\n",
              "      <td>-0.123283</td>\n",
              "      <td>-0.996091</td>\n",
              "      <td>-0.983403</td>\n",
              "      <td>-0.990675</td>\n",
              "      <td>-0.997099</td>\n",
              "      <td>-0.982750</td>\n",
              "      <td>-0.989302</td>\n",
              "      <td>-0.938692</td>\n",
              "      <td>...</td>\n",
              "      <td>-0.482845</td>\n",
              "      <td>-0.036788</td>\n",
              "      <td>-0.012892</td>\n",
              "      <td>0.640011</td>\n",
              "      <td>-0.485366</td>\n",
              "      <td>-0.848649</td>\n",
              "      <td>0.181935</td>\n",
              "      <td>-0.047663</td>\n",
              "      <td>1</td>\n",
              "      <td>STANDING</td>\n",
              "    </tr>\n",
              "    <tr>\n",
              "      <th>4</th>\n",
              "      <td>0.276629</td>\n",
              "      <td>-0.016570</td>\n",
              "      <td>-0.115362</td>\n",
              "      <td>-0.998139</td>\n",
              "      <td>-0.980817</td>\n",
              "      <td>-0.990482</td>\n",
              "      <td>-0.998321</td>\n",
              "      <td>-0.979672</td>\n",
              "      <td>-0.990441</td>\n",
              "      <td>-0.942469</td>\n",
              "      <td>...</td>\n",
              "      <td>-0.699205</td>\n",
              "      <td>0.123320</td>\n",
              "      <td>0.122542</td>\n",
              "      <td>0.693578</td>\n",
              "      <td>-0.615971</td>\n",
              "      <td>-0.847865</td>\n",
              "      <td>0.185151</td>\n",
              "      <td>-0.043892</td>\n",
              "      <td>1</td>\n",
              "      <td>STANDING</td>\n",
              "    </tr>\n",
              "  </tbody>\n",
              "</table>\n",
              "<p>5 rows × 563 columns</p>\n",
              "</div>\n",
              "      <button class=\"colab-df-convert\" onclick=\"convertToInteractive('df-bb877214-b7d3-408e-bffd-c0f76a39d7b9')\"\n",
              "              title=\"Convert this dataframe to an interactive table.\"\n",
              "              style=\"display:none;\">\n",
              "        \n",
              "  <svg xmlns=\"http://www.w3.org/2000/svg\" height=\"24px\"viewBox=\"0 0 24 24\"\n",
              "       width=\"24px\">\n",
              "    <path d=\"M0 0h24v24H0V0z\" fill=\"none\"/>\n",
              "    <path d=\"M18.56 5.44l.94 2.06.94-2.06 2.06-.94-2.06-.94-.94-2.06-.94 2.06-2.06.94zm-11 1L8.5 8.5l.94-2.06 2.06-.94-2.06-.94L8.5 2.5l-.94 2.06-2.06.94zm10 10l.94 2.06.94-2.06 2.06-.94-2.06-.94-.94-2.06-.94 2.06-2.06.94z\"/><path d=\"M17.41 7.96l-1.37-1.37c-.4-.4-.92-.59-1.43-.59-.52 0-1.04.2-1.43.59L10.3 9.45l-7.72 7.72c-.78.78-.78 2.05 0 2.83L4 21.41c.39.39.9.59 1.41.59.51 0 1.02-.2 1.41-.59l7.78-7.78 2.81-2.81c.8-.78.8-2.07 0-2.86zM5.41 20L4 18.59l7.72-7.72 1.47 1.35L5.41 20z\"/>\n",
              "  </svg>\n",
              "      </button>\n",
              "      \n",
              "  <style>\n",
              "    .colab-df-container {\n",
              "      display:flex;\n",
              "      flex-wrap:wrap;\n",
              "      gap: 12px;\n",
              "    }\n",
              "\n",
              "    .colab-df-convert {\n",
              "      background-color: #E8F0FE;\n",
              "      border: none;\n",
              "      border-radius: 50%;\n",
              "      cursor: pointer;\n",
              "      display: none;\n",
              "      fill: #1967D2;\n",
              "      height: 32px;\n",
              "      padding: 0 0 0 0;\n",
              "      width: 32px;\n",
              "    }\n",
              "\n",
              "    .colab-df-convert:hover {\n",
              "      background-color: #E2EBFA;\n",
              "      box-shadow: 0px 1px 2px rgba(60, 64, 67, 0.3), 0px 1px 3px 1px rgba(60, 64, 67, 0.15);\n",
              "      fill: #174EA6;\n",
              "    }\n",
              "\n",
              "    [theme=dark] .colab-df-convert {\n",
              "      background-color: #3B4455;\n",
              "      fill: #D2E3FC;\n",
              "    }\n",
              "\n",
              "    [theme=dark] .colab-df-convert:hover {\n",
              "      background-color: #434B5C;\n",
              "      box-shadow: 0px 1px 3px 1px rgba(0, 0, 0, 0.15);\n",
              "      filter: drop-shadow(0px 1px 2px rgba(0, 0, 0, 0.3));\n",
              "      fill: #FFFFFF;\n",
              "    }\n",
              "  </style>\n",
              "\n",
              "      <script>\n",
              "        const buttonEl =\n",
              "          document.querySelector('#df-bb877214-b7d3-408e-bffd-c0f76a39d7b9 button.colab-df-convert');\n",
              "        buttonEl.style.display =\n",
              "          google.colab.kernel.accessAllowed ? 'block' : 'none';\n",
              "\n",
              "        async function convertToInteractive(key) {\n",
              "          const element = document.querySelector('#df-bb877214-b7d3-408e-bffd-c0f76a39d7b9');\n",
              "          const dataTable =\n",
              "            await google.colab.kernel.invokeFunction('convertToInteractive',\n",
              "                                                     [key], {});\n",
              "          if (!dataTable) return;\n",
              "\n",
              "          const docLinkHtml = 'Like what you see? Visit the ' +\n",
              "            '<a target=\"_blank\" href=https://colab.research.google.com/notebooks/data_table.ipynb>data table notebook</a>'\n",
              "            + ' to learn more about interactive tables.';\n",
              "          element.innerHTML = '';\n",
              "          dataTable['output_type'] = 'display_data';\n",
              "          await google.colab.output.renderOutput(dataTable, element);\n",
              "          const docLink = document.createElement('div');\n",
              "          docLink.innerHTML = docLinkHtml;\n",
              "          element.appendChild(docLink);\n",
              "        }\n",
              "      </script>\n",
              "    </div>\n",
              "  </div>\n",
              "  "
            ]
          },
          "metadata": {},
          "execution_count": 5
        }
      ],
      "source": [
        "train.head()"
      ]
    },
    {
      "cell_type": "code",
      "execution_count": 6,
      "metadata": {
        "colab": {
          "base_uri": "https://localhost:8080/"
        },
        "id": "o-QoRToeNsYK",
        "outputId": "8524b35e-3afe-4445-dd74-cd7b4324cef1"
      },
      "outputs": [
        {
          "output_type": "execute_result",
          "data": {
            "text/plain": [
              "SVC()"
            ]
          },
          "metadata": {},
          "execution_count": 6
        }
      ],
      "source": [
        "sv = SVC()\n",
        "sv"
      ]
    },
    {
      "cell_type": "code",
      "execution_count": 7,
      "metadata": {
        "collapsed": true,
        "id": "nJqC5k6xNsYL"
      },
      "outputs": [],
      "source": [
        "from sklearn.preprocessing import LabelEncoder\n",
        "\n",
        "X_train = train.iloc[:,:-2]\n",
        "Y_train = train['Activity']\n",
        "le = LabelEncoder()\n",
        "le.fit(['STANDING', 'SITTING', 'LAYING', 'WALKING', 'WALKING_DOWNSTAIRS','WALKING_UPSTAIRS'] )\n",
        "Y_train_encoded = le.transform(Y_train)"
      ]
    },
    {
      "cell_type": "code",
      "execution_count": 8,
      "metadata": {
        "collapsed": true,
        "id": "UX7PZPe5NsYL"
      },
      "outputs": [],
      "source": [
        "X_test = test.iloc[:,:-2]\n",
        "Y_test = test['Activity']\n",
        "Y_test_encoded = le.transform(Y_test)"
      ]
    },
    {
      "cell_type": "markdown",
      "metadata": {
        "id": "-I8ZVqa3NsYM"
      },
      "source": [
        "## 2. Training model using all features"
      ]
    },
    {
      "cell_type": "code",
      "execution_count": 9,
      "metadata": {
        "colab": {
          "base_uri": "https://localhost:8080/"
        },
        "id": "4mYqU9d1NsYM",
        "outputId": "80eac423-61c0-4ff0-c72f-aa9e0a45115e"
      },
      "outputs": [
        {
          "output_type": "stream",
          "name": "stdout",
          "text": [
            "SVM Train Accuracy : 0.9790533188248096\n",
            "SVM Test Accuracy : 0.9504580929759077\n"
          ]
        }
      ],
      "source": [
        "sv.fit(X_train,Y_train_encoded)\n",
        "print (\"SVM Train Accuracy : {}\".format(accuracy_score(Y_train_encoded,sv.predict(X_train))))\n",
        "print (\"SVM Test Accuracy : {}\".format(accuracy_score(Y_test_encoded,sv.predict(X_test))))"
      ]
    },
    {
      "cell_type": "markdown",
      "metadata": {
        "id": "hwkokZJgNsYN"
      },
      "source": [
        "## 3. Choosing the kernel"
      ]
    },
    {
      "cell_type": "code",
      "execution_count": 10,
      "metadata": {
        "colab": {
          "base_uri": "https://localhost:8080/"
        },
        "id": "ocvjsO4LNsYN",
        "outputId": "0f4e843e-abf1-4ffe-88a8-8a6b7ac92d79"
      },
      "outputs": [
        {
          "output_type": "stream",
          "name": "stdout",
          "text": [
            "rbf : 0.9504580929759077\n",
            "linear : 0.9640312181879878\n",
            "poly : 0.9579233118425518\n",
            "sigmoid : 0.8608754665761792\n"
          ]
        }
      ],
      "source": [
        "test_scores = []\n",
        "for i in ['rbf','linear','poly','sigmoid']:\n",
        "    sv = SVC(kernel=i)\n",
        "    sv.fit(X_train,Y_train_encoded)\n",
        "    acc = accuracy_score(Y_test_encoded,sv.predict(X_test))\n",
        "    test_scores.append(acc)\n",
        "    print(\"{} : {}\".format(i,acc))"
      ]
    },
    {
      "cell_type": "code",
      "execution_count": 11,
      "metadata": {
        "colab": {
          "base_uri": "https://localhost:8080/",
          "height": 409
        },
        "id": "tEVt6SflNsYO",
        "outputId": "30e9617d-89f8-4688-b2ac-2735f1205bb8"
      },
      "outputs": [
        {
          "output_type": "stream",
          "name": "stderr",
          "text": [
            "/usr/local/lib/python3.7/dist-packages/seaborn/_decorators.py:43: FutureWarning: Pass the following variables as keyword args: x, y. From version 0.12, the only valid positional argument will be `data`, and passing other arguments without an explicit keyword will result in an error or misinterpretation.\n",
            "  FutureWarning\n"
          ]
        },
        {
          "output_type": "execute_result",
          "data": {
            "text/plain": [
              "<matplotlib.axes._subplots.AxesSubplot at 0x7f7843c7cf90>"
            ]
          },
          "metadata": {},
          "execution_count": 11
        },
        {
          "output_type": "display_data",
          "data": {
            "text/plain": [
              "<Figure size 504x360 with 1 Axes>"
            ],
            "image/png": "[encoded data removed]"
          },
          "metadata": {
            "needs_background": "light"
          }
        }
      ],
      "source": [
        "import seaborn as sns\n",
        "plt.figure(figsize=(7,5))\n",
        "plt.xlabel('Kernel')\n",
        "plt.ylabel('Accuracy')\n",
        "sns.barplot(['rbf','linear','poly','sigmoid'],test_scores,palette=\"rocket\")"
      ]
    },
    {
      "cell_type": "markdown",
      "metadata": {
        "id": "ePWEGoooNsYO"
      },
      "source": [
        "## 4. Training with 'linear' kernel"
      ]
    },
    {
      "cell_type": "code",
      "execution_count": 12,
      "metadata": {
        "colab": {
          "base_uri": "https://localhost:8080/"
        },
        "id": "KwntZKzaNsYO",
        "outputId": "91b7a932-d73e-4557-f049-68aff3cbaeb3"
      },
      "outputs": [
        {
          "output_type": "stream",
          "name": "stdout",
          "text": [
            "SVM Train Accuracy : 0.9938792165397171\n",
            "SVM Test Accuracy : 0.9640312181879878\n"
          ]
        }
      ],
      "source": [
        "sv = SVC(kernel='linear')\n",
        "sv.fit(X_train,Y_train_encoded)\n",
        "print (\"SVM Train Accuracy : {}\".format(accuracy_score(Y_train_encoded,sv.predict(X_train))))\n",
        "print (\"SVM Test Accuracy : {}\".format(accuracy_score(Y_test_encoded,sv.predict(X_test))))"
      ]
    },
    {
      "cell_type": "markdown",
      "metadata": {
        "id": "oLpild9hNsYP"
      },
      "source": [
        "## 5. Choosing the value of regularization parameter, C\n",
        "\n",
        "Regularization refers to techniques that are used to calibrate machine learning models in order to minimize the adjusted loss function and prevent overfitting or underfitting. Using Regularization, we can fit our machine learning model appropriately on a given test set and hence reduce the errors in it."
      ]
    },
    {
      "cell_type": "code",
      "execution_count": 13,
      "metadata": {
        "colab": {
          "base_uri": "https://localhost:8080/"
        },
        "id": "pAXCG3EgNsYP",
        "outputId": "36371ee4-b97a-44d7-b701-dc9f44fa842b"
      },
      "outputs": [
        {
          "output_type": "stream",
          "name": "stdout",
          "text": [
            "0.001 : 0.9100780454699695\n",
            "0.01 : 0.9504580929759077\n",
            "0.1 : 0.9606379368849678\n",
            "1 : 0.9640312181879878\n",
            "10 : 0.9630132337970818\n",
            "100 : 0.9619952494061758\n",
            "1000 : 0.9613165931455717\n"
          ]
        }
      ],
      "source": [
        "test_scores = []\n",
        "for i in [0.001,0.01,0.1,1,10,100,1000]:\n",
        "    sv = SVC(kernel='linear',C=i)\n",
        "    sv.fit(X_train,Y_train_encoded)\n",
        "    acc = accuracy_score(Y_test_encoded,sv.predict(X_test))\n",
        "    test_scores.append(acc)\n",
        "    print(\"{} : {}\".format(i,acc))"
      ]
    },
    {
      "cell_type": "code",
      "execution_count": 14,
      "metadata": {
        "colab": {
          "base_uri": "https://localhost:8080/",
          "height": 409
        },
        "id": "mzbvrGjoNsYP",
        "outputId": "54f98a01-c49a-42c5-8053-6581a9ac79f7"
      },
      "outputs": [
        {
          "output_type": "stream",
          "name": "stderr",
          "text": [
            "/usr/local/lib/python3.7/dist-packages/seaborn/_decorators.py:43: FutureWarning: Pass the following variables as keyword args: x, y. From version 0.12, the only valid positional argument will be `data`, and passing other arguments without an explicit keyword will result in an error or misinterpretation.\n",
            "  FutureWarning\n"
          ]
        },
        {
          "output_type": "execute_result",
          "data": {
            "text/plain": [
              "<matplotlib.axes._subplots.AxesSubplot at 0x7f7843bdb450>"
            ]
          },
          "metadata": {},
          "execution_count": 14
        },
        {
          "output_type": "display_data",
          "data": {
            "text/plain": [
              "<Figure size 504x360 with 1 Axes>"
            ],
            "image/png": "[encoded data removed]"
          },
          "metadata": {
            "needs_background": "light"
          }
        }
      ],
      "source": [
        "import seaborn as sns\n",
        "plt.figure(figsize=(7,5))\n",
        "plt.xlabel('Regularization Parameter : C')\n",
        "plt.ylabel('Accuracy')\n",
        "sns.barplot([0.001,0.01,0.1,1,10,100,1000],test_scores,palette=\"rocket\")"
      ]
    },
    {
      "cell_type": "markdown",
      "metadata": {
        "id": "AVfBp26PNsYQ"
      },
      "source": [
        "## 6. PCA\n"
      ]
    },
    {
      "cell_type": "code",
      "execution_count": 15,
      "metadata": {
        "colab": {
          "base_uri": "https://localhost:8080/"
        },
        "id": "9BkMizKANsYQ",
        "outputId": "359095fe-c08e-46da-8d67-13d1cd987bfb"
      },
      "outputs": [
        {
          "output_type": "stream",
          "name": "stdout",
          "text": [
            "(7352, 561) (7352, 10)\n",
            "(2947, 561) (2947, 10)\n"
          ]
        }
      ],
      "source": [
        "from sklearn.decomposition import PCA\n",
        "X_train = train.iloc[:,:-2]\n",
        "X_test = test.iloc[:,:-2]\n",
        "pca = PCA(n_components=10)\n",
        "pca.fit(X_train)\n",
        "X_train_pca = pca.transform(X_train)\n",
        "X_test_pca = pca.transform(X_test)\n",
        "print(X_train.shape,X_train_pca.shape)\n",
        "print(X_test.shape,X_test_pca.shape)"
      ]
    },
    {
      "cell_type": "code",
      "execution_count": 16,
      "metadata": {
        "colab": {
          "base_uri": "https://localhost:8080/"
        },
        "id": "LbDyXXeaNsYQ",
        "outputId": "dd84ab5d-d4a5-4587-83ad-d31817e42179"
      },
      "outputs": [
        {
          "output_type": "stream",
          "name": "stdout",
          "text": [
            "SVM Train Accuracy : 0.9023394994559304\n",
            "SVM Test Accuracy : 0.8788598574821853\n"
          ]
        }
      ],
      "source": [
        "sv = SVC(kernel='linear',C=1.0)\n",
        "sv.fit(X_train_pca,Y_train_encoded)\n",
        "print (\"SVM Train Accuracy : {}\".format(accuracy_score(Y_train_encoded,sv.predict(X_train_pca))))\n",
        "print (\"SVM Test Accuracy : {}\".format(accuracy_score(Y_test_encoded,sv.predict(X_test_pca))))"
      ]
    },
    {
      "cell_type": "markdown",
      "metadata": {
        "id": "9Kms7SEANsYQ"
      },
      "source": [
        "## 7. Selecting the number of components"
      ]
    },
    {
      "cell_type": "code",
      "execution_count": 17,
      "metadata": {
        "colab": {
          "base_uri": "https://localhost:8080/"
        },
        "id": "UPDEOQHLNsYR",
        "outputId": "5c94dd2f-df25-466b-bede-e089bb019f99"
      },
      "outputs": [
        {
          "output_type": "stream",
          "name": "stdout",
          "text": [
            "10 : 0.8788598574821853\n",
            "20 : 0.8751272480488632\n",
            "30 : 0.8934509670851714\n",
            "40 : 0.9182219205972175\n",
            "50 : 0.9192399049881235\n",
            "60 : 0.9399389209365456\n",
            "70 : 0.9412962334577536\n",
            "80 : 0.9362063115032236\n",
            "90 : 0.9433322022395657\n",
            "100 : 0.9402782490668476\n",
            "110 : 0.9487614523243977\n",
            "120 : 0.9457074991516796\n",
            "130 : 0.9545300305395318\n",
            "140 : 0.9541907024092298\n",
            "150 : 0.9562266711910418\n",
            "160 : 0.9586019681031558\n",
            "170 : 0.9606379368849678\n",
            "180 : 0.9630132337970818\n",
            "190 : 0.9633525619273838\n",
            "200 : 0.9623345775364778\n",
            "210 : 0.9633525619273838\n",
            "220 : 0.9630132337970818\n",
            "230 : 0.9626739056667798\n",
            "240 : 0.9633525619273838\n",
            "250 : 0.9630132337970818\n"
          ]
        }
      ],
      "source": [
        "r = range(10,251,10)\n",
        "pca_scores = []\n",
        "for i in r:\n",
        "    pca = PCA(n_components=i,random_state=0).fit(X_train)\n",
        "    X_train_pca = pca.transform(X_train)\n",
        "    X_test_pca = pca.transform(X_test)\n",
        "    sv = SVC(kernel='linear',C=1.0).fit(X_train_pca,Y_train_encoded)\n",
        "    acc = accuracy_score(Y_test_encoded,sv.predict(X_test_pca))\n",
        "    pca_scores.append(acc)\n",
        "    print(\"{} : {}\".format(i,acc))"
      ]
    },
    {
      "cell_type": "code",
      "execution_count": 18,
      "metadata": {
        "colab": {
          "base_uri": "https://localhost:8080/",
          "height": 1000
        },
        "id": "ZEbgcz-_NsYR",
        "outputId": "1608b412-a3b9-4424-ac3c-74505daad8f5"
      },
      "outputs": [
        {
          "output_type": "execute_result",
          "data": {
            "text/plain": [
              "([<matplotlib.axis.XTick at 0x7f784365b990>,\n",
              "  <matplotlib.axis.XTick at 0x7f784365b950>,\n",
              "  <matplotlib.axis.XTick at 0x7f784365b590>,\n",
              "  <matplotlib.axis.XTick at 0x7f7840deae10>,\n",
              "  <matplotlib.axis.XTick at 0x7f7840dfc390>,\n",
              "  <matplotlib.axis.XTick at 0x7f7840dfc8d0>,\n",
              "  <matplotlib.axis.XTick at 0x7f7840dfce50>,\n",
              "  <matplotlib.axis.XTick at 0x7f7840dfc790>,\n",
              "  <matplotlib.axis.XTick at 0x7f7840deae90>,\n",
              "  <matplotlib.axis.XTick at 0x7f7840e057d0>,\n",
              "  <matplotlib.axis.XTick at 0x7f7840e05cd0>,\n",
              "  <matplotlib.axis.XTick at 0x7f7840e0e2d0>,\n",
              "  <matplotlib.axis.XTick at 0x7f7840e0e790>,\n",
              "  <matplotlib.axis.XTick at 0x7f7840e0ecd0>,\n",
              "  <matplotlib.axis.XTick at 0x7f7840e152d0>,\n",
              "  <matplotlib.axis.XTick at 0x7f7840e15790>,\n",
              "  <matplotlib.axis.XTick at 0x7f7840e15cd0>,\n",
              "  <matplotlib.axis.XTick at 0x7f7840e15ad0>,\n",
              "  <matplotlib.axis.XTick at 0x7f7840e0eb90>,\n",
              "  <matplotlib.axis.XTick at 0x7f7840e05a10>,\n",
              "  <matplotlib.axis.XTick at 0x7f7840d9d610>,\n",
              "  <matplotlib.axis.XTick at 0x7f7840d9db50>,\n",
              "  <matplotlib.axis.XTick at 0x7f7840d9dd90>,\n",
              "  <matplotlib.axis.XTick at 0x7f7840da5610>,\n",
              "  <matplotlib.axis.XTick at 0x7f7840da5b50>],\n",
              " <a list of 25 Text major ticklabel objects>)"
            ]
          },
          "metadata": {},
          "execution_count": 18
        },
        {
          "output_type": "display_data",
          "data": {
            "text/plain": [
              "<Figure size 720x720 with 1 Axes>"
            ],
            "image/png": "[encoded data removed]"
          },
          "metadata": {
            "needs_background": "light"
          }
        }
      ],
      "source": [
        "plt.figure(figsize=(10,10))\n",
        "plt.xlabel('n_components in PCA')\n",
        "plt.ylabel('Accuracy')\n",
        "plt.scatter(range(10,260,10),pca_scores)\n",
        "plt.xticks(range(10,260,10))"
      ]
    },
    {
      "cell_type": "markdown",
      "metadata": {
        "id": "qtkwlTMUNsYR"
      },
      "source": [
        "## 8. Training model with 190 components"
      ]
    },
    {
      "cell_type": "code",
      "execution_count": 19,
      "metadata": {
        "colab": {
          "base_uri": "https://localhost:8080/"
        },
        "id": "C7fX8cZBNsYR",
        "outputId": "106b0324-7454-4b9a-87ea-d31a47e5c704"
      },
      "outputs": [
        {
          "output_type": "stream",
          "name": "stdout",
          "text": [
            "SVM Train Accuracy : 0.9929270946681176\n",
            "SVM Test Accuracy : 0.9633525619273838\n"
          ]
        }
      ],
      "source": [
        "pca = PCA(n_components=190,random_state=0).fit(X_train)\n",
        "X_train_pca = pca.transform(X_train)\n",
        "X_test_pca = pca.transform(X_test)\n",
        "sv = SVC(kernel='linear',C=1.0).fit(X_train_pca,Y_train_encoded)\n",
        "print (\"SVM Train Accuracy : {}\".format(accuracy_score(Y_train_encoded,sv.predict(X_train_pca))))\n",
        "print (\"SVM Test Accuracy : {}\".format(accuracy_score(Y_test_encoded,sv.predict(X_test_pca))))"
      ]
    },
    {
      "cell_type": "code",
      "execution_count": 20,
      "metadata": {
        "colab": {
          "base_uri": "https://localhost:8080/",
          "height": 392
        },
        "id": "51d9urPMNsYR",
        "outputId": "c6143968-633f-4635-9a73-86084fa3df2f"
      },
      "outputs": [
        {
          "output_type": "execute_result",
          "data": {
            "text/plain": [
              "<matplotlib.axes._subplots.AxesSubplot at 0x7f7840d68f90>"
            ]
          },
          "metadata": {},
          "execution_count": 20
        },
        {
          "output_type": "display_data",
          "data": {
            "text/plain": [
              "<Figure size 432x288 with 2 Axes>"
            ],
            "image/png": "[encoded data removed]"
          },
          "metadata": {
            "needs_background": "light"
          }
        }
      ],
      "source": [
        "from sklearn.metrics import confusion_matrix,precision_score,recall_score,f1_score\n",
        "sns.heatmap(data=confusion_matrix(Y_test_encoded,sv.predict(X_test_pca)),\n",
        "            fmt ='.0f',\n",
        "            annot=True,\n",
        "            xticklabels=np.unique(Y_test),\n",
        "            yticklabels=np.unique(Y_test))"
      ]
    },
    {
      "cell_type": "code",
      "execution_count": 21,
      "metadata": {
        "colab": {
          "base_uri": "https://localhost:8080/"
        },
        "id": "th6PKipnNsYS",
        "outputId": "dbe3da63-24e1-4c2f-fa12-02399ac3c411"
      },
      "outputs": [
        {
          "output_type": "stream",
          "name": "stdout",
          "text": [
            "Accuracy Score : 0.9633525619273838\n",
            "Precision Score: 0.965094137098033\n",
            "Recall Acore : 0.962752543171959\n",
            "F1 Score : 0.9633899938172665\n"
          ]
        }
      ],
      "source": [
        "print (\"Accuracy Score : {}\".format(accuracy_score(Y_test_encoded,sv.predict(X_test_pca))))\n",
        "print (\"Precision Score: {}\".format(precision_score(Y_test_encoded,sv.predict(X_test_pca),average='macro')))\n",
        "print (\"Recall Acore : {}\".format(recall_score(Y_test_encoded,sv.predict(X_test_pca),average='macro')))\n",
        "print (\"F1 Score : {}\".format(f1_score(Y_test_encoded,sv.predict(X_test_pca),average='macro')))"
      ]
    },
    {
      "cell_type": "code",
      "execution_count": 22,
      "metadata": {
        "colab": {
          "base_uri": "https://localhost:8080/"
        },
        "id": "Y6vhJot_NsYS",
        "outputId": "f872d8b7-c9cb-48e6-ad91-f747ce84ec47"
      },
      "outputs": [
        {
          "output_type": "stream",
          "name": "stdout",
          "text": [
            "              precision    recall  f1-score   support\n",
            "\n",
            "           0       1.00      1.00      1.00       537\n",
            "           1       0.96      0.89      0.92       491\n",
            "           2       0.91      0.97      0.94       532\n",
            "           3       0.96      0.99      0.98       496\n",
            "           4       0.99      0.97      0.98       420\n",
            "           5       0.98      0.96      0.97       471\n",
            "\n",
            "    accuracy                           0.96      2947\n",
            "   macro avg       0.97      0.96      0.96      2947\n",
            "weighted avg       0.96      0.96      0.96      2947\n",
            "\n"
          ]
        }
      ],
      "source": [
        "from sklearn.metrics import classification_report\n",
        "print(classification_report(Y_test_encoded,sv.predict(X_test_pca)))"
      ]
    },
    {
      "cell_type": "code",
      "execution_count": 22,
      "metadata": {
        "collapsed": true,
        "id": "YKx5Fjz6NsYS"
      },
      "outputs": [],
      "source": []
    }
  ],
  "metadata": {
    "kernelspec": {
      "display_name": "Python 3",
      "language": "python",
      "name": "python3"
    },
    "language_info": {
      "codemirror_mode": {
        "name": "ipython",
        "version": 3
      },
      "file_extension": ".py",
      "mimetype": "text/x-python",
      "name": "python",
      "nbconvert_exporter": "python",
      "pygments_lexer": "ipython3",
      "version": "3.6.1"
    },
    "colab": {
      "provenance": []
    }
  },
  "nbformat": 4,
  "nbformat_minor": 0
}