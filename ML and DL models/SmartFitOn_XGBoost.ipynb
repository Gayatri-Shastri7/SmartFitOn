{
  "cells": [
    {
      "cell_type": "code",
      "execution_count": 1,
      "metadata": {
        "collapsed": true,
        "id": "-zk-HsUUO0d3"
      },
      "outputs": [],
      "source": [
        "import numpy as np\n",
        "import pandas as pd\n",
        "import seaborn as sns\n",
        "import matplotlib.pyplot as plt\n",
        "\n",
        "%matplotlib inline"
      ]
    },
    {
      "cell_type": "code",
      "execution_count": 2,
      "metadata": {
        "collapsed": true,
        "id": "4YRqKU76O0eD"
      },
      "outputs": [],
      "source": [
        "from xgboost import XGBClassifier\n",
        "from sklearn.metrics import accuracy_score"
      ]
    },
    {
      "cell_type": "code",
      "source": [
        "from google.colab import drive\n",
        "drive.mount('/content/drive')"
      ],
      "metadata": {
        "colab": {
          "base_uri": "https://localhost:8080/"
        },
        "id": "oEu_KESAO4XD",
        "outputId": "f23fb70e-6146-47c0-e538-6bcbb1776bf8"
      },
      "execution_count": 3,
      "outputs": [
        {
          "output_type": "stream",
          "name": "stdout",
          "text": [
            "Drive already mounted at /content/drive; to attempt to forcibly remount, call drive.mount(\"/content/drive\", force_remount=True).\n"
          ]
        }
      ]
    },
    {
      "cell_type": "code",
      "execution_count": 4,
      "metadata": {
        "colab": {
          "base_uri": "https://localhost:8080/"
        },
        "id": "JOZjBpSmO0eD",
        "outputId": "5103cc8d-6365-4c47-e128-89158c78ee83"
      },
      "outputs": [
        {
          "output_type": "stream",
          "name": "stdout",
          "text": [
            "(7352, 563) (2947, 563)\n"
          ]
        }
      ],
      "source": [
        "train = pd.read_csv('/content/drive/MyDrive/Dataset/Dataset/train.csv')\n",
        "test = pd.read_csv('/content/drive/MyDrive/Dataset/Dataset/test.csv')\n",
        "print(train.shape,test.shape)"
      ]
    },
    {
      "cell_type": "code",
      "execution_count": 5,
      "metadata": {
        "colab": {
          "base_uri": "https://localhost:8080/"
        },
        "id": "HVE5DJuHO0eF",
        "outputId": "9926f6a9-362b-4464-962c-6754bb46973e"
      },
      "outputs": [
        {
          "output_type": "execute_result",
          "data": {
            "text/plain": [
              "XGBClassifier()"
            ]
          },
          "metadata": {},
          "execution_count": 5
        }
      ],
      "source": [
        "xgb = XGBClassifier()\n",
        "xgb"
      ]
    },
    {
      "cell_type": "code",
      "execution_count": 6,
      "metadata": {
        "colab": {
          "base_uri": "https://localhost:8080/",
          "height": 317
        },
        "id": "glxj8DJ2O0eF",
        "outputId": "adcfbcf3-a12f-4e8f-9ee9-f84e6e39b724"
      },
      "outputs": [
        {
          "output_type": "execute_result",
          "data": {
            "text/plain": [
              "   tBodyAcc-mean()-X  tBodyAcc-mean()-Y  tBodyAcc-mean()-Z  tBodyAcc-std()-X  \\\n",
              "0           0.288585          -0.020294          -0.132905         -0.995279   \n",
              "1           0.278419          -0.016411          -0.123520         -0.998245   \n",
              "2           0.279653          -0.019467          -0.113462         -0.995380   \n",
              "3           0.279174          -0.026201          -0.123283         -0.996091   \n",
              "4           0.276629          -0.016570          -0.115362         -0.998139   \n",
              "\n",
              "   tBodyAcc-std()-Y  tBodyAcc-std()-Z  tBodyAcc-mad()-X  tBodyAcc-mad()-Y  \\\n",
              "0         -0.983111         -0.913526         -0.995112         -0.983185   \n",
              "1         -0.975300         -0.960322         -0.998807         -0.974914   \n",
              "2         -0.967187         -0.978944         -0.996520         -0.963668   \n",
              "3         -0.983403         -0.990675         -0.997099         -0.982750   \n",
              "4         -0.980817         -0.990482         -0.998321         -0.979672   \n",
              "\n",
              "   tBodyAcc-mad()-Z  tBodyAcc-max()-X  ...  fBodyBodyGyroJerkMag-kurtosis()  \\\n",
              "0         -0.923527         -0.934724  ...                        -0.710304   \n",
              "1         -0.957686         -0.943068  ...                        -0.861499   \n",
              "2         -0.977469         -0.938692  ...                        -0.760104   \n",
              "3         -0.989302         -0.938692  ...                        -0.482845   \n",
              "4         -0.990441         -0.942469  ...                        -0.699205   \n",
              "\n",
              "   angle(tBodyAccMean,gravity)  angle(tBodyAccJerkMean),gravityMean)  \\\n",
              "0                    -0.112754                              0.030400   \n",
              "1                     0.053477                             -0.007435   \n",
              "2                    -0.118559                              0.177899   \n",
              "3                    -0.036788                             -0.012892   \n",
              "4                     0.123320                              0.122542   \n",
              "\n",
              "   angle(tBodyGyroMean,gravityMean)  angle(tBodyGyroJerkMean,gravityMean)  \\\n",
              "0                         -0.464761                             -0.018446   \n",
              "1                         -0.732626                              0.703511   \n",
              "2                          0.100699                              0.808529   \n",
              "3                          0.640011                             -0.485366   \n",
              "4                          0.693578                             -0.615971   \n",
              "\n",
              "   angle(X,gravityMean)  angle(Y,gravityMean)  angle(Z,gravityMean)  subject  \\\n",
              "0             -0.841247              0.179941             -0.058627        1   \n",
              "1             -0.844788              0.180289             -0.054317        1   \n",
              "2             -0.848933              0.180637             -0.049118        1   \n",
              "3             -0.848649              0.181935             -0.047663        1   \n",
              "4             -0.847865              0.185151             -0.043892        1   \n",
              "\n",
              "   Activity  \n",
              "0  STANDING  \n",
              "1  STANDING  \n",
              "2  STANDING  \n",
              "3  STANDING  \n",
              "4  STANDING  \n",
              "\n",
              "[5 rows x 563 columns]"
            ],
            "text/html": [
              "\n",
              "  <div id=\"df-2e57ede8-ab73-43c0-82c7-74689cb9a3f3\">\n",
              "    <div class=\"colab-df-container\">\n",
              "      <div>\n",
              "<style scoped>\n",
              "    .dataframe tbody tr th:only-of-type {\n",
              "        vertical-align: middle;\n",
              "    }\n",
              "\n",
              "    .dataframe tbody tr th {\n",
              "        vertical-align: top;\n",
              "    }\n",
              "\n",
              "    .dataframe thead th {\n",
              "        text-align: right;\n",
              "    }\n",
              "</style>\n",
              "<table border=\"1\" class=\"dataframe\">\n",
              "  <thead>\n",
              "    <tr style=\"text-align: right;\">\n",
              "      <th></th>\n",
              "      <th>tBodyAcc-mean()-X</th>\n",
              "      <th>tBodyAcc-mean()-Y</th>\n",
              "      <th>tBodyAcc-mean()-Z</th>\n",
              "      <th>tBodyAcc-std()-X</th>\n",
              "      <th>tBodyAcc-std()-Y</th>\n",
              "      <th>tBodyAcc-std()-Z</th>\n",
              "      <th>tBodyAcc-mad()-X</th>\n",
              "      <th>tBodyAcc-mad()-Y</th>\n",
              "      <th>tBodyAcc-mad()-Z</th>\n",
              "      <th>tBodyAcc-max()-X</th>\n",
              "      <th>...</th>\n",
              "      <th>fBodyBodyGyroJerkMag-kurtosis()</th>\n",
              "      <th>angle(tBodyAccMean,gravity)</th>\n",
              "      <th>angle(tBodyAccJerkMean),gravityMean)</th>\n",
              "      <th>angle(tBodyGyroMean,gravityMean)</th>\n",
              "      <th>angle(tBodyGyroJerkMean,gravityMean)</th>\n",
              "      <th>angle(X,gravityMean)</th>\n",
              "      <th>angle(Y,gravityMean)</th>\n",
              "      <th>angle(Z,gravityMean)</th>\n",
              "      <th>subject</th>\n",
              "      <th>Activity</th>\n",
              "    </tr>\n",
              "  </thead>\n",
              "  <tbody>\n",
              "    <tr>\n",
              "      <th>0</th>\n",
              "      <td>0.288585</td>\n",
              "      <td>-0.020294</td>\n",
              "      <td>-0.132905</td>\n",
              "      <td>-0.995279</td>\n",
              "      <td>-0.983111</td>\n",
              "      <td>-0.913526</td>\n",
              "      <td>-0.995112</td>\n",
              "      <td>-0.983185</td>\n",
              "      <td>-0.923527</td>\n",
              "      <td>-0.934724</td>\n",
              "      <td>...</td>\n",
              "      <td>-0.710304</td>\n",
              "      <td>-0.112754</td>\n",
              "      <td>0.030400</td>\n",
              "      <td>-0.464761</td>\n",
              "      <td>-0.018446</td>\n",
              "      <td>-0.841247</td>\n",
              "      <td>0.179941</td>\n",
              "      <td>-0.058627</td>\n",
              "      <td>1</td>\n",
              "      <td>STANDING</td>\n",
              "    </tr>\n",
              "    <tr>\n",
              "      <th>1</th>\n",
              "      <td>0.278419</td>\n",
              "      <td>-0.016411</td>\n",
              "      <td>-0.123520</td>\n",
              "      <td>-0.998245</td>\n",
              "      <td>-0.975300</td>\n",
              "      <td>-0.960322</td>\n",
              "      <td>-0.998807</td>\n",
              "      <td>-0.974914</td>\n",
              "      <td>-0.957686</td>\n",
              "      <td>-0.943068</td>\n",
              "      <td>...</td>\n",
              "      <td>-0.861499</td>\n",
              "      <td>0.053477</td>\n",
              "      <td>-0.007435</td>\n",
              "      <td>-0.732626</td>\n",
              "      <td>0.703511</td>\n",
              "      <td>-0.844788</td>\n",
              "      <td>0.180289</td>\n",
              "      <td>-0.054317</td>\n",
              "      <td>1</td>\n",
              "      <td>STANDING</td>\n",
              "    </tr>\n",
              "    <tr>\n",
              "      <th>2</th>\n",
              "      <td>0.279653</td>\n",
              "      <td>-0.019467</td>\n",
              "      <td>-0.113462</td>\n",
              "      <td>-0.995380</td>\n",
              "      <td>-0.967187</td>\n",
              "      <td>-0.978944</td>\n",
              "      <td>-0.996520</td>\n",
              "      <td>-0.963668</td>\n",
              "      <td>-0.977469</td>\n",
              "      <td>-0.938692</td>\n",
              "      <td>...</td>\n",
              "      <td>-0.760104</td>\n",
              "      <td>-0.118559</td>\n",
              "      <td>0.177899</td>\n",
              "      <td>0.100699</td>\n",
              "      <td>0.808529</td>\n",
              "      <td>-0.848933</td>\n",
              "      <td>0.180637</td>\n",
              "      <td>-0.049118</td>\n",
              "      <td>1</td>\n",
              "      <td>STANDING</td>\n",
              "    </tr>\n",
              "    <tr>\n",
              "      <th>3</th>\n",
              "      <td>0.279174</td>\n",
              "      <td>-0.026201</td>\n",
              "      <td>-0.123283</td>\n",
              "      <td>-0.996091</td>\n",
              "      <td>-0.983403</td>\n",
              "      <td>-0.990675</td>\n",
              "      <td>-0.997099</td>\n",
              "      <td>-0.982750</td>\n",
              "      <td>-0.989302</td>\n",
              "      <td>-0.938692</td>\n",
              "      <td>...</td>\n",
              "      <td>-0.482845</td>\n",
              "      <td>-0.036788</td>\n",
              "      <td>-0.012892</td>\n",
              "      <td>0.640011</td>\n",
              "      <td>-0.485366</td>\n",
              "      <td>-0.848649</td>\n",
              "      <td>0.181935</td>\n",
              "      <td>-0.047663</td>\n",
              "      <td>1</td>\n",
              "      <td>STANDING</td>\n",
              "    </tr>\n",
              "    <tr>\n",
              "      <th>4</th>\n",
              "      <td>0.276629</td>\n",
              "      <td>-0.016570</td>\n",
              "      <td>-0.115362</td>\n",
              "      <td>-0.998139</td>\n",
              "      <td>-0.980817</td>\n",
              "      <td>-0.990482</td>\n",
              "      <td>-0.998321</td>\n",
              "      <td>-0.979672</td>\n",
              "      <td>-0.990441</td>\n",
              "      <td>-0.942469</td>\n",
              "      <td>...</td>\n",
              "      <td>-0.699205</td>\n",
              "      <td>0.123320</td>\n",
              "      <td>0.122542</td>\n",
              "      <td>0.693578</td>\n",
              "      <td>-0.615971</td>\n",
              "      <td>-0.847865</td>\n",
              "      <td>0.185151</td>\n",
              "      <td>-0.043892</td>\n",
              "      <td>1</td>\n",
              "      <td>STANDING</td>\n",
              "    </tr>\n",
              "  </tbody>\n",
              "</table>\n",
              "<p>5 rows × 563 columns</p>\n",
              "</div>\n",
              "      <button class=\"colab-df-convert\" onclick=\"convertToInteractive('df-2e57ede8-ab73-43c0-82c7-74689cb9a3f3')\"\n",
              "              title=\"Convert this dataframe to an interactive table.\"\n",
              "              style=\"display:none;\">\n",
              "        \n",
              "  <svg xmlns=\"http://www.w3.org/2000/svg\" height=\"24px\"viewBox=\"0 0 24 24\"\n",
              "       width=\"24px\">\n",
              "    <path d=\"M0 0h24v24H0V0z\" fill=\"none\"/>\n",
              "    <path d=\"M18.56 5.44l.94 2.06.94-2.06 2.06-.94-2.06-.94-.94-2.06-.94 2.06-2.06.94zm-11 1L8.5 8.5l.94-2.06 2.06-.94-2.06-.94L8.5 2.5l-.94 2.06-2.06.94zm10 10l.94 2.06.94-2.06 2.06-.94-2.06-.94-.94-2.06-.94 2.06-2.06.94z\"/><path d=\"M17.41 7.96l-1.37-1.37c-.4-.4-.92-.59-1.43-.59-.52 0-1.04.2-1.43.59L10.3 9.45l-7.72 7.72c-.78.78-.78 2.05 0 2.83L4 21.41c.39.39.9.59 1.41.59.51 0 1.02-.2 1.41-.59l7.78-7.78 2.81-2.81c.8-.78.8-2.07 0-2.86zM5.41 20L4 18.59l7.72-7.72 1.47 1.35L5.41 20z\"/>\n",
              "  </svg>\n",
              "      </button>\n",
              "      \n",
              "  <style>\n",
              "    .colab-df-container {\n",
              "      display:flex;\n",
              "      flex-wrap:wrap;\n",
              "      gap: 12px;\n",
              "    }\n",
              "\n",
              "    .colab-df-convert {\n",
              "      background-color: #E8F0FE;\n",
              "      border: none;\n",
              "      border-radius: 50%;\n",
              "      cursor: pointer;\n",
              "      display: none;\n",
              "      fill: #1967D2;\n",
              "      height: 32px;\n",
              "      padding: 0 0 0 0;\n",
              "      width: 32px;\n",
              "    }\n",
              "\n",
              "    .colab-df-convert:hover {\n",
              "      background-color: #E2EBFA;\n",
              "      box-shadow: 0px 1px 2px rgba(60, 64, 67, 0.3), 0px 1px 3px 1px rgba(60, 64, 67, 0.15);\n",
              "      fill: #174EA6;\n",
              "    }\n",
              "\n",
              "    [theme=dark] .colab-df-convert {\n",
              "      background-color: #3B4455;\n",
              "      fill: #D2E3FC;\n",
              "    }\n",
              "\n",
              "    [theme=dark] .colab-df-convert:hover {\n",
              "      background-color: #434B5C;\n",
              "      box-shadow: 0px 1px 3px 1px rgba(0, 0, 0, 0.15);\n",
              "      filter: drop-shadow(0px 1px 2px rgba(0, 0, 0, 0.3));\n",
              "      fill: #FFFFFF;\n",
              "    }\n",
              "  </style>\n",
              "\n",
              "      <script>\n",
              "        const buttonEl =\n",
              "          document.querySelector('#df-2e57ede8-ab73-43c0-82c7-74689cb9a3f3 button.colab-df-convert');\n",
              "        buttonEl.style.display =\n",
              "          google.colab.kernel.accessAllowed ? 'block' : 'none';\n",
              "\n",
              "        async function convertToInteractive(key) {\n",
              "          const element = document.querySelector('#df-2e57ede8-ab73-43c0-82c7-74689cb9a3f3');\n",
              "          const dataTable =\n",
              "            await google.colab.kernel.invokeFunction('convertToInteractive',\n",
              "                                                     [key], {});\n",
              "          if (!dataTable) return;\n",
              "\n",
              "          const docLinkHtml = 'Like what you see? Visit the ' +\n",
              "            '<a target=\"_blank\" href=https://colab.research.google.com/notebooks/data_table.ipynb>data table notebook</a>'\n",
              "            + ' to learn more about interactive tables.';\n",
              "          element.innerHTML = '';\n",
              "          dataTable['output_type'] = 'display_data';\n",
              "          await google.colab.output.renderOutput(dataTable, element);\n",
              "          const docLink = document.createElement('div');\n",
              "          docLink.innerHTML = docLinkHtml;\n",
              "          element.appendChild(docLink);\n",
              "        }\n",
              "      </script>\n",
              "    </div>\n",
              "  </div>\n",
              "  "
            ]
          },
          "metadata": {},
          "execution_count": 6
        }
      ],
      "source": [
        "train.head()"
      ]
    },
    {
      "cell_type": "code",
      "execution_count": 7,
      "metadata": {
        "collapsed": true,
        "id": "tEA4WW-jO0eG"
      },
      "outputs": [],
      "source": [
        "from sklearn.preprocessing import LabelEncoder\n",
        "\n",
        "X_train = train.iloc[:,:-2]\n",
        "Y_train = train['Activity']\n",
        "le = LabelEncoder()\n",
        "le.fit(['STANDING', 'SITTING', 'LAYING', 'WALKING', 'WALKING_DOWNSTAIRS','WALKING_UPSTAIRS'] )\n",
        "Y_train_encoded = le.transform(Y_train)"
      ]
    },
    {
      "cell_type": "code",
      "execution_count": 8,
      "metadata": {
        "collapsed": true,
        "id": "uSZnKfa-O0eH"
      },
      "outputs": [],
      "source": [
        "X_test = test.iloc[:,:-2]\n",
        "Y_test = test['Activity']\n",
        "Y_test_encoded = le.transform(Y_test)"
      ]
    },
    {
      "cell_type": "markdown",
      "metadata": {
        "id": "8z-37mmUO0eH"
      },
      "source": [
        "## Training model using all features"
      ]
    },
    {
      "cell_type": "code",
      "execution_count": 9,
      "metadata": {
        "colab": {
          "base_uri": "https://localhost:8080/"
        },
        "id": "SnH3OFSzO0eK",
        "outputId": "69fb1ade-45b4-402d-9b88-5303c3a29aba"
      },
      "outputs": [
        {
          "output_type": "stream",
          "name": "stdout",
          "text": [
            "XGBoost Train Accuracy : 0.999455930359086\n",
            "XGBoost Test Accuracy : 0.9395995928062436\n"
          ]
        }
      ],
      "source": [
        "xgb.fit(X_train,Y_train_encoded)\n",
        "print (\"XGBoost Train Accuracy : {}\".format(accuracy_score(Y_train_encoded,xgb.predict(X_train))))\n",
        "print (\"XGBoost Test Accuracy : {}\".format(accuracy_score(Y_test_encoded,xgb.predict(X_test))))"
      ]
    },
    {
      "cell_type": "markdown",
      "metadata": {
        "id": "tgC-YgCUO0eL"
      },
      "source": [
        "## Selecting no. of learning_rate\n",
        "learning_rate: float, default=0.1\n",
        "Learning rate shrinks the contribution of each tree by learning_rate. There is a trade-off between learning_rate and n_estimators. Values must be in the range (0.0, inf).\n",
        "\n",
        "\n"
      ]
    },
    {
      "cell_type": "code",
      "execution_count": 16,
      "metadata": {
        "collapsed": true,
        "id": "CKfAkjPqO0eL"
      },
      "outputs": [],
      "source": [
        "test_scores = []\n",
        "for i in ['0.01','0.1','1']:\n",
        "    xg = XGBClassifier(learning_rate=i)\n",
        "    xg.fit(X_train,Y_train_encoded)\n",
        "    acc = accuracy_score(Y_test_encoded,xg.predict(X_test))\n",
        "    test_scores.append(acc)"
      ]
    },
    {
      "cell_type": "code",
      "execution_count": 19,
      "metadata": {
        "colab": {
          "base_uri": "https://localhost:8080/",
          "height": 533
        },
        "id": "LBgV0k_BO0eM",
        "outputId": "e2f4f312-b6fa-4b96-9dbd-a3722a7ba8a0"
      },
      "outputs": [
        {
          "output_type": "execute_result",
          "data": {
            "text/plain": [
              "([<matplotlib.axis.XTick at 0x7ff575404410>,\n",
              "  <matplotlib.axis.XTick at 0x7ff575415450>,\n",
              "  <matplotlib.axis.XTick at 0x7ff5754150d0>,\n",
              "  <matplotlib.axis.XTick at 0x7ff5753b6d10>],\n",
              " <a list of 4 Text major ticklabel objects>)"
            ]
          },
          "metadata": {},
          "execution_count": 19
        },
        {
          "output_type": "display_data",
          "data": {
            "text/plain": [
              "<Figure size 720x504 with 1 Axes>"
            ],
            "image/png": "[encoded data removed]"
          },
          "metadata": {
            "needs_background": "light"
          }
        }
      ],
      "source": [
        "plt.figure(figsize=(10,7))\n",
        "plt.xlabel('learning rate')\n",
        "plt.ylabel('Accuracy')\n",
        "plt.scatter(range(1,4),test_scores)\n",
        "plt.xticks([0,0.01,0.1,1])"
      ]
    },
    {
      "cell_type": "markdown",
      "metadata": {
        "id": "gzTHnFUTO0eM"
      },
      "source": [
        "## Training model with 1 learning_rate\n",
        "\n",
        "\n"
      ]
    },
    {
      "cell_type": "code",
      "execution_count": 20,
      "metadata": {
        "colab": {
          "base_uri": "https://localhost:8080/"
        },
        "id": "RiwSrGGCO0eN",
        "outputId": "69dc6a5d-062e-4456-8c9c-54bb618bd8e8"
      },
      "outputs": [
        {
          "output_type": "stream",
          "name": "stdout",
          "text": [
            " Train Accuracy : 1.0\n",
            " Test Accuracy : 0.9477434679334917\n"
          ]
        }
      ],
      "source": [
        "xg = XGBClassifier(learning_rate=1)\n",
        "xg.fit(X_train,Y_train_encoded)\n",
        "print (\" Train Accuracy : {}\".format(accuracy_score(Y_train_encoded,xg.predict(X_train))))\n",
        "print (\" Test Accuracy : {}\".format(accuracy_score(Y_test_encoded,xg.predict(X_test))))"
      ]
    },
    {
      "cell_type": "code",
      "execution_count": 21,
      "metadata": {
        "colab": {
          "base_uri": "https://localhost:8080/",
          "height": 206
        },
        "id": "p2S5yYg5O0eN",
        "outputId": "49ecc3cb-a55b-4982-fab6-ac7be7f72c9b"
      },
      "outputs": [
        {
          "output_type": "execute_result",
          "data": {
            "text/plain": [
              "   angle(X,gravityMean)  tGravityAcc-min()-X  tGravityAcc-mean()-Y  \\\n",
              "0             -0.841247             0.977436             -0.140840   \n",
              "1             -0.844788             0.984520             -0.141551   \n",
              "2             -0.848933             0.986770             -0.142010   \n",
              "3             -0.848649             0.986821             -0.143976   \n",
              "4             -0.847865             0.987434             -0.148750   \n",
              "\n",
              "   tGravityAcc-mean()-X  tBodyAcc-mad()-X  \n",
              "0              0.963396         -0.995112  \n",
              "1              0.966561         -0.998807  \n",
              "2              0.966878         -0.996520  \n",
              "3              0.967615         -0.997099  \n",
              "4              0.968224         -0.998321  "
            ],
            "text/html": [
              "\n",
              "  <div id=\"df-a74cbf72-8aa3-4440-ab68-0a87bc135926\">\n",
              "    <div class=\"colab-df-container\">\n",
              "      <div>\n",
              "<style scoped>\n",
              "    .dataframe tbody tr th:only-of-type {\n",
              "        vertical-align: middle;\n",
              "    }\n",
              "\n",
              "    .dataframe tbody tr th {\n",
              "        vertical-align: top;\n",
              "    }\n",
              "\n",
              "    .dataframe thead th {\n",
              "        text-align: right;\n",
              "    }\n",
              "</style>\n",
              "<table border=\"1\" class=\"dataframe\">\n",
              "  <thead>\n",
              "    <tr style=\"text-align: right;\">\n",
              "      <th></th>\n",
              "      <th>angle(X,gravityMean)</th>\n",
              "      <th>tGravityAcc-min()-X</th>\n",
              "      <th>tGravityAcc-mean()-Y</th>\n",
              "      <th>tGravityAcc-mean()-X</th>\n",
              "      <th>tBodyAcc-mad()-X</th>\n",
              "    </tr>\n",
              "  </thead>\n",
              "  <tbody>\n",
              "    <tr>\n",
              "      <th>0</th>\n",
              "      <td>-0.841247</td>\n",
              "      <td>0.977436</td>\n",
              "      <td>-0.140840</td>\n",
              "      <td>0.963396</td>\n",
              "      <td>-0.995112</td>\n",
              "    </tr>\n",
              "    <tr>\n",
              "      <th>1</th>\n",
              "      <td>-0.844788</td>\n",
              "      <td>0.984520</td>\n",
              "      <td>-0.141551</td>\n",
              "      <td>0.966561</td>\n",
              "      <td>-0.998807</td>\n",
              "    </tr>\n",
              "    <tr>\n",
              "      <th>2</th>\n",
              "      <td>-0.848933</td>\n",
              "      <td>0.986770</td>\n",
              "      <td>-0.142010</td>\n",
              "      <td>0.966878</td>\n",
              "      <td>-0.996520</td>\n",
              "    </tr>\n",
              "    <tr>\n",
              "      <th>3</th>\n",
              "      <td>-0.848649</td>\n",
              "      <td>0.986821</td>\n",
              "      <td>-0.143976</td>\n",
              "      <td>0.967615</td>\n",
              "      <td>-0.997099</td>\n",
              "    </tr>\n",
              "    <tr>\n",
              "      <th>4</th>\n",
              "      <td>-0.847865</td>\n",
              "      <td>0.987434</td>\n",
              "      <td>-0.148750</td>\n",
              "      <td>0.968224</td>\n",
              "      <td>-0.998321</td>\n",
              "    </tr>\n",
              "  </tbody>\n",
              "</table>\n",
              "</div>\n",
              "      <button class=\"colab-df-convert\" onclick=\"convertToInteractive('df-a74cbf72-8aa3-4440-ab68-0a87bc135926')\"\n",
              "              title=\"Convert this dataframe to an interactive table.\"\n",
              "              style=\"display:none;\">\n",
              "        \n",
              "  <svg xmlns=\"http://www.w3.org/2000/svg\" height=\"24px\"viewBox=\"0 0 24 24\"\n",
              "       width=\"24px\">\n",
              "    <path d=\"M0 0h24v24H0V0z\" fill=\"none\"/>\n",
              "    <path d=\"M18.56 5.44l.94 2.06.94-2.06 2.06-.94-2.06-.94-.94-2.06-.94 2.06-2.06.94zm-11 1L8.5 8.5l.94-2.06 2.06-.94-2.06-.94L8.5 2.5l-.94 2.06-2.06.94zm10 10l.94 2.06.94-2.06 2.06-.94-2.06-.94-.94-2.06-.94 2.06-2.06.94z\"/><path d=\"M17.41 7.96l-1.37-1.37c-.4-.4-.92-.59-1.43-.59-.52 0-1.04.2-1.43.59L10.3 9.45l-7.72 7.72c-.78.78-.78 2.05 0 2.83L4 21.41c.39.39.9.59 1.41.59.51 0 1.02-.2 1.41-.59l7.78-7.78 2.81-2.81c.8-.78.8-2.07 0-2.86zM5.41 20L4 18.59l7.72-7.72 1.47 1.35L5.41 20z\"/>\n",
              "  </svg>\n",
              "      </button>\n",
              "      \n",
              "  <style>\n",
              "    .colab-df-container {\n",
              "      display:flex;\n",
              "      flex-wrap:wrap;\n",
              "      gap: 12px;\n",
              "    }\n",
              "\n",
              "    .colab-df-convert {\n",
              "      background-color: #E8F0FE;\n",
              "      border: none;\n",
              "      border-radius: 50%;\n",
              "      cursor: pointer;\n",
              "      display: none;\n",
              "      fill: #1967D2;\n",
              "      height: 32px;\n",
              "      padding: 0 0 0 0;\n",
              "      width: 32px;\n",
              "    }\n",
              "\n",
              "    .colab-df-convert:hover {\n",
              "      background-color: #E2EBFA;\n",
              "      box-shadow: 0px 1px 2px rgba(60, 64, 67, 0.3), 0px 1px 3px 1px rgba(60, 64, 67, 0.15);\n",
              "      fill: #174EA6;\n",
              "    }\n",
              "\n",
              "    [theme=dark] .colab-df-convert {\n",
              "      background-color: #3B4455;\n",
              "      fill: #D2E3FC;\n",
              "    }\n",
              "\n",
              "    [theme=dark] .colab-df-convert:hover {\n",
              "      background-color: #434B5C;\n",
              "      box-shadow: 0px 1px 3px 1px rgba(0, 0, 0, 0.15);\n",
              "      filter: drop-shadow(0px 1px 2px rgba(0, 0, 0, 0.3));\n",
              "      fill: #FFFFFF;\n",
              "    }\n",
              "  </style>\n",
              "\n",
              "      <script>\n",
              "        const buttonEl =\n",
              "          document.querySelector('#df-a74cbf72-8aa3-4440-ab68-0a87bc135926 button.colab-df-convert');\n",
              "        buttonEl.style.display =\n",
              "          google.colab.kernel.accessAllowed ? 'block' : 'none';\n",
              "\n",
              "        async function convertToInteractive(key) {\n",
              "          const element = document.querySelector('#df-a74cbf72-8aa3-4440-ab68-0a87bc135926');\n",
              "          const dataTable =\n",
              "            await google.colab.kernel.invokeFunction('convertToInteractive',\n",
              "                                                     [key], {});\n",
              "          if (!dataTable) return;\n",
              "\n",
              "          const docLinkHtml = 'Like what you see? Visit the ' +\n",
              "            '<a target=\"_blank\" href=https://colab.research.google.com/notebooks/data_table.ipynb>data table notebook</a>'\n",
              "            + ' to learn more about interactive tables.';\n",
              "          element.innerHTML = '';\n",
              "          dataTable['output_type'] = 'display_data';\n",
              "          await google.colab.output.renderOutput(dataTable, element);\n",
              "          const docLink = document.createElement('div');\n",
              "          docLink.innerHTML = docLinkHtml;\n",
              "          element.appendChild(docLink);\n",
              "        }\n",
              "      </script>\n",
              "    </div>\n",
              "  </div>\n",
              "  "
            ]
          },
          "metadata": {},
          "execution_count": 21
        }
      ],
      "source": [
        "cols = ['angle(X,gravityMean)', 'tGravityAcc-min()-X', 'tGravityAcc-mean()-Y', 'tGravityAcc-mean()-X',\n",
        "        'tBodyAcc-mad()-X']\n",
        "X_train = train[cols]\n",
        "X_test = test[cols]\n",
        "X_train.head()"
      ]
    },
    {
      "cell_type": "code",
      "execution_count": 22,
      "metadata": {
        "colab": {
          "base_uri": "https://localhost:8080/"
        },
        "id": "fjmn1VbpO0eO",
        "outputId": "7c9f65f7-6f32-4698-cdc6-0db64bfa61bb"
      },
      "outputs": [
        {
          "output_type": "stream",
          "name": "stdout",
          "text": [
            " Train Accuracy : 0.9212459194776932\n",
            " Test Accuracy : 0.7458432304038005\n"
          ]
        }
      ],
      "source": [
        "xg = XGBClassifier()\n",
        "xg.fit(X_train,Y_train_encoded)\n",
        "print (\" Train Accuracy : {}\".format(accuracy_score(Y_train_encoded,xg.predict(X_train))))\n",
        "print (\" Test Accuracy : {}\".format(accuracy_score(Y_test_encoded,xg.predict(X_test))))"
      ]
    },
    {
      "cell_type": "code",
      "execution_count": 23,
      "metadata": {
        "colab": {
          "base_uri": "https://localhost:8080/",
          "height": 505
        },
        "id": "GA_UzlG9O0eP",
        "outputId": "2def9d42-d116-4b56-ee38-bffcd1f0188f"
      },
      "outputs": [
        {
          "output_type": "execute_result",
          "data": {
            "text/plain": [
              "        tBodyAcc-mean()-X  tBodyAcc-mean()-Y  tBodyAcc-mean()-Z  \\\n",
              "count         7352.000000        7352.000000        7352.000000   \n",
              "unique                NaN                NaN                NaN   \n",
              "top                   NaN                NaN                NaN   \n",
              "freq                  NaN                NaN                NaN   \n",
              "mean             0.274488          -0.017695          -0.109141   \n",
              "std              0.070261           0.040811           0.056635   \n",
              "min             -1.000000          -1.000000          -1.000000   \n",
              "25%              0.262975          -0.024863          -0.120993   \n",
              "50%              0.277193          -0.017219          -0.108676   \n",
              "75%              0.288461          -0.010783          -0.097794   \n",
              "max              1.000000           1.000000           1.000000   \n",
              "\n",
              "        tBodyAcc-std()-X  tBodyAcc-std()-Y  tBodyAcc-std()-Z  \\\n",
              "count        7352.000000       7352.000000       7352.000000   \n",
              "unique               NaN               NaN               NaN   \n",
              "top                  NaN               NaN               NaN   \n",
              "freq                 NaN               NaN               NaN   \n",
              "mean           -0.605438         -0.510938         -0.604754   \n",
              "std             0.448734          0.502645          0.418687   \n",
              "min            -1.000000         -0.999873         -1.000000   \n",
              "25%            -0.992754         -0.978129         -0.980233   \n",
              "50%            -0.946196         -0.851897         -0.859365   \n",
              "75%            -0.242813         -0.034231         -0.262415   \n",
              "max             1.000000          0.916238          1.000000   \n",
              "\n",
              "        tBodyAcc-mad()-X  tBodyAcc-mad()-Y  tBodyAcc-mad()-Z  \\\n",
              "count        7352.000000       7352.000000       7352.000000   \n",
              "unique               NaN               NaN               NaN   \n",
              "top                  NaN               NaN               NaN   \n",
              "freq                 NaN               NaN               NaN   \n",
              "mean           -0.630512         -0.526907         -0.606150   \n",
              "std             0.424073          0.485942          0.414122   \n",
              "min            -1.000000         -1.000000         -1.000000   \n",
              "25%            -0.993591         -0.978162         -0.980251   \n",
              "50%            -0.950709         -0.857328         -0.857143   \n",
              "75%            -0.292680         -0.066701         -0.265671   \n",
              "max             1.000000          0.967664          1.000000   \n",
              "\n",
              "        tBodyAcc-max()-X  ...  fBodyBodyGyroJerkMag-kurtosis()  \\\n",
              "count        7352.000000  ...                      7352.000000   \n",
              "unique               NaN  ...                              NaN   \n",
              "top                  NaN  ...                              NaN   \n",
              "freq                 NaN  ...                              NaN   \n",
              "mean           -0.468604  ...                        -0.625294   \n",
              "std             0.544547  ...                         0.307584   \n",
              "min            -1.000000  ...                        -0.999765   \n",
              "25%            -0.936219  ...                        -0.845573   \n",
              "50%            -0.881637  ...                        -0.711692   \n",
              "75%            -0.017129  ...                        -0.503878   \n",
              "max             1.000000  ...                         0.956845   \n",
              "\n",
              "        angle(tBodyAccMean,gravity)  angle(tBodyAccJerkMean),gravityMean)  \\\n",
              "count                   7352.000000                           7352.000000   \n",
              "unique                          NaN                                   NaN   \n",
              "top                             NaN                                   NaN   \n",
              "freq                            NaN                                   NaN   \n",
              "mean                       0.008684                              0.002186   \n",
              "std                        0.336787                              0.448306   \n",
              "min                       -0.976580                             -1.000000   \n",
              "25%                       -0.121527                             -0.289549   \n",
              "50%                        0.009509                              0.008943   \n",
              "75%                        0.150865                              0.292861   \n",
              "max                        1.000000                              1.000000   \n",
              "\n",
              "        angle(tBodyGyroMean,gravityMean)  \\\n",
              "count                        7352.000000   \n",
              "unique                               NaN   \n",
              "top                                  NaN   \n",
              "freq                                 NaN   \n",
              "mean                            0.008726   \n",
              "std                             0.608303   \n",
              "min                            -1.000000   \n",
              "25%                            -0.482273   \n",
              "50%                             0.008735   \n",
              "75%                             0.506187   \n",
              "max                             0.998702   \n",
              "\n",
              "        angle(tBodyGyroJerkMean,gravityMean)  angle(X,gravityMean)  \\\n",
              "count                            7352.000000           7352.000000   \n",
              "unique                                   NaN                   NaN   \n",
              "top                                      NaN                   NaN   \n",
              "freq                                     NaN                   NaN   \n",
              "mean                               -0.005981             -0.489547   \n",
              "std                                 0.477975              0.511807   \n",
              "min                                -1.000000             -1.000000   \n",
              "25%                                -0.376341             -0.812065   \n",
              "50%                                -0.000368             -0.709417   \n",
              "75%                                 0.359368             -0.509079   \n",
              "max                                 0.996078              1.000000   \n",
              "\n",
              "        angle(Y,gravityMean)  angle(Z,gravityMean)      subject  Activity  \n",
              "count            7352.000000           7352.000000  7352.000000      7352  \n",
              "unique                   NaN                   NaN          NaN         6  \n",
              "top                      NaN                   NaN          NaN    LAYING  \n",
              "freq                     NaN                   NaN          NaN      1407  \n",
              "mean                0.058593             -0.056515    17.413085       NaN  \n",
              "std                 0.297480              0.279122     8.975143       NaN  \n",
              "min                -1.000000             -1.000000     1.000000       NaN  \n",
              "25%                -0.017885             -0.143414     8.000000       NaN  \n",
              "50%                 0.182071              0.003181    19.000000       NaN  \n",
              "75%                 0.248353              0.107659    26.000000       NaN  \n",
              "max                 0.478157              1.000000    30.000000       NaN  \n",
              "\n",
              "[11 rows x 563 columns]"
            ],
            "text/html": [
              "\n",
              "  <div id=\"df-e21ee284-dbeb-4d8d-8e54-48459f747c76\">\n",
              "    <div class=\"colab-df-container\">\n",
              "      <div>\n",
              "<style scoped>\n",
              "    .dataframe tbody tr th:only-of-type {\n",
              "        vertical-align: middle;\n",
              "    }\n",
              "\n",
              "    .dataframe tbody tr th {\n",
              "        vertical-align: top;\n",
              "    }\n",
              "\n",
              "    .dataframe thead th {\n",
              "        text-align: right;\n",
              "    }\n",
              "</style>\n",
              "<table border=\"1\" class=\"dataframe\">\n",
              "  <thead>\n",
              "    <tr style=\"text-align: right;\">\n",
              "      <th></th>\n",
              "      <th>tBodyAcc-mean()-X</th>\n",
              "      <th>tBodyAcc-mean()-Y</th>\n",
              "      <th>tBodyAcc-mean()-Z</th>\n",
              "      <th>tBodyAcc-std()-X</th>\n",
              "      <th>tBodyAcc-std()-Y</th>\n",
              "      <th>tBodyAcc-std()-Z</th>\n",
              "      <th>tBodyAcc-mad()-X</th>\n",
              "      <th>tBodyAcc-mad()-Y</th>\n",
              "      <th>tBodyAcc-mad()-Z</th>\n",
              "      <th>tBodyAcc-max()-X</th>\n",
              "      <th>...</th>\n",
              "      <th>fBodyBodyGyroJerkMag-kurtosis()</th>\n",
              "      <th>angle(tBodyAccMean,gravity)</th>\n",
              "      <th>angle(tBodyAccJerkMean),gravityMean)</th>\n",
              "      <th>angle(tBodyGyroMean,gravityMean)</th>\n",
              "      <th>angle(tBodyGyroJerkMean,gravityMean)</th>\n",
              "      <th>angle(X,gravityMean)</th>\n",
              "      <th>angle(Y,gravityMean)</th>\n",
              "      <th>angle(Z,gravityMean)</th>\n",
              "      <th>subject</th>\n",
              "      <th>Activity</th>\n",
              "    </tr>\n",
              "  </thead>\n",
              "  <tbody>\n",
              "    <tr>\n",
              "      <th>count</th>\n",
              "      <td>7352.000000</td>\n",
              "      <td>7352.000000</td>\n",
              "      <td>7352.000000</td>\n",
              "      <td>7352.000000</td>\n",
              "      <td>7352.000000</td>\n",
              "      <td>7352.000000</td>\n",
              "      <td>7352.000000</td>\n",
              "      <td>7352.000000</td>\n",
              "      <td>7352.000000</td>\n",
              "      <td>7352.000000</td>\n",
              "      <td>...</td>\n",
              "      <td>7352.000000</td>\n",
              "      <td>7352.000000</td>\n",
              "      <td>7352.000000</td>\n",
              "      <td>7352.000000</td>\n",
              "      <td>7352.000000</td>\n",
              "      <td>7352.000000</td>\n",
              "      <td>7352.000000</td>\n",
              "      <td>7352.000000</td>\n",
              "      <td>7352.000000</td>\n",
              "      <td>7352</td>\n",
              "    </tr>\n",
              "    <tr>\n",
              "      <th>unique</th>\n",
              "      <td>NaN</td>\n",
              "      <td>NaN</td>\n",
              "      <td>NaN</td>\n",
              "      <td>NaN</td>\n",
              "      <td>NaN</td>\n",
              "      <td>NaN</td>\n",
              "      <td>NaN</td>\n",
              "      <td>NaN</td>\n",
              "      <td>NaN</td>\n",
              "      <td>NaN</td>\n",
              "      <td>...</td>\n",
              "      <td>NaN</td>\n",
              "      <td>NaN</td>\n",
              "      <td>NaN</td>\n",
              "      <td>NaN</td>\n",
              "      <td>NaN</td>\n",
              "      <td>NaN</td>\n",
              "      <td>NaN</td>\n",
              "      <td>NaN</td>\n",
              "      <td>NaN</td>\n",
              "      <td>6</td>\n",
              "    </tr>\n",
              "    <tr>\n",
              "      <th>top</th>\n",
              "      <td>NaN</td>\n",
              "      <td>NaN</td>\n",
              "      <td>NaN</td>\n",
              "      <td>NaN</td>\n",
              "      <td>NaN</td>\n",
              "      <td>NaN</td>\n",
              "      <td>NaN</td>\n",
              "      <td>NaN</td>\n",
              "      <td>NaN</td>\n",
              "      <td>NaN</td>\n",
              "      <td>...</td>\n",
              "      <td>NaN</td>\n",
              "      <td>NaN</td>\n",
              "      <td>NaN</td>\n",
              "      <td>NaN</td>\n",
              "      <td>NaN</td>\n",
              "      <td>NaN</td>\n",
              "      <td>NaN</td>\n",
              "      <td>NaN</td>\n",
              "      <td>NaN</td>\n",
              "      <td>LAYING</td>\n",
              "    </tr>\n",
              "    <tr>\n",
              "      <th>freq</th>\n",
              "      <td>NaN</td>\n",
              "      <td>NaN</td>\n",
              "      <td>NaN</td>\n",
              "      <td>NaN</td>\n",
              "      <td>NaN</td>\n",
              "      <td>NaN</td>\n",
              "      <td>NaN</td>\n",
              "      <td>NaN</td>\n",
              "      <td>NaN</td>\n",
              "      <td>NaN</td>\n",
              "      <td>...</td>\n",
              "      <td>NaN</td>\n",
              "      <td>NaN</td>\n",
              "      <td>NaN</td>\n",
              "      <td>NaN</td>\n",
              "      <td>NaN</td>\n",
              "      <td>NaN</td>\n",
              "      <td>NaN</td>\n",
              "      <td>NaN</td>\n",
              "      <td>NaN</td>\n",
              "      <td>1407</td>\n",
              "    </tr>\n",
              "    <tr>\n",
              "      <th>mean</th>\n",
              "      <td>0.274488</td>\n",
              "      <td>-0.017695</td>\n",
              "      <td>-0.109141</td>\n",
              "      <td>-0.605438</td>\n",
              "      <td>-0.510938</td>\n",
              "      <td>-0.604754</td>\n",
              "      <td>-0.630512</td>\n",
              "      <td>-0.526907</td>\n",
              "      <td>-0.606150</td>\n",
              "      <td>-0.468604</td>\n",
              "      <td>...</td>\n",
              "      <td>-0.625294</td>\n",
              "      <td>0.008684</td>\n",
              "      <td>0.002186</td>\n",
              "      <td>0.008726</td>\n",
              "      <td>-0.005981</td>\n",
              "      <td>-0.489547</td>\n",
              "      <td>0.058593</td>\n",
              "      <td>-0.056515</td>\n",
              "      <td>17.413085</td>\n",
              "      <td>NaN</td>\n",
              "    </tr>\n",
              "    <tr>\n",
              "      <th>std</th>\n",
              "      <td>0.070261</td>\n",
              "      <td>0.040811</td>\n",
              "      <td>0.056635</td>\n",
              "      <td>0.448734</td>\n",
              "      <td>0.502645</td>\n",
              "      <td>0.418687</td>\n",
              "      <td>0.424073</td>\n",
              "      <td>0.485942</td>\n",
              "      <td>0.414122</td>\n",
              "      <td>0.544547</td>\n",
              "      <td>...</td>\n",
              "      <td>0.307584</td>\n",
              "      <td>0.336787</td>\n",
              "      <td>0.448306</td>\n",
              "      <td>0.608303</td>\n",
              "      <td>0.477975</td>\n",
              "      <td>0.511807</td>\n",
              "      <td>0.297480</td>\n",
              "      <td>0.279122</td>\n",
              "      <td>8.975143</td>\n",
              "      <td>NaN</td>\n",
              "    </tr>\n",
              "    <tr>\n",
              "      <th>min</th>\n",
              "      <td>-1.000000</td>\n",
              "      <td>-1.000000</td>\n",
              "      <td>-1.000000</td>\n",
              "      <td>-1.000000</td>\n",
              "      <td>-0.999873</td>\n",
              "      <td>-1.000000</td>\n",
              "      <td>-1.000000</td>\n",
              "      <td>-1.000000</td>\n",
              "      <td>-1.000000</td>\n",
              "      <td>-1.000000</td>\n",
              "      <td>...</td>\n",
              "      <td>-0.999765</td>\n",
              "      <td>-0.976580</td>\n",
              "      <td>-1.000000</td>\n",
              "      <td>-1.000000</td>\n",
              "      <td>-1.000000</td>\n",
              "      <td>-1.000000</td>\n",
              "      <td>-1.000000</td>\n",
              "      <td>-1.000000</td>\n",
              "      <td>1.000000</td>\n",
              "      <td>NaN</td>\n",
              "    </tr>\n",
              "    <tr>\n",
              "      <th>25%</th>\n",
              "      <td>0.262975</td>\n",
              "      <td>-0.024863</td>\n",
              "      <td>-0.120993</td>\n",
              "      <td>-0.992754</td>\n",
              "      <td>-0.978129</td>\n",
              "      <td>-0.980233</td>\n",
              "      <td>-0.993591</td>\n",
              "      <td>-0.978162</td>\n",
              "      <td>-0.980251</td>\n",
              "      <td>-0.936219</td>\n",
              "      <td>...</td>\n",
              "      <td>-0.845573</td>\n",
              "      <td>-0.121527</td>\n",
              "      <td>-0.289549</td>\n",
              "      <td>-0.482273</td>\n",
              "      <td>-0.376341</td>\n",
              "      <td>-0.812065</td>\n",
              "      <td>-0.017885</td>\n",
              "      <td>-0.143414</td>\n",
              "      <td>8.000000</td>\n",
              "      <td>NaN</td>\n",
              "    </tr>\n",
              "    <tr>\n",
              "      <th>50%</th>\n",
              "      <td>0.277193</td>\n",
              "      <td>-0.017219</td>\n",
              "      <td>-0.108676</td>\n",
              "      <td>-0.946196</td>\n",
              "      <td>-0.851897</td>\n",
              "      <td>-0.859365</td>\n",
              "      <td>-0.950709</td>\n",
              "      <td>-0.857328</td>\n",
              "      <td>-0.857143</td>\n",
              "      <td>-0.881637</td>\n",
              "      <td>...</td>\n",
              "      <td>-0.711692</td>\n",
              "      <td>0.009509</td>\n",
              "      <td>0.008943</td>\n",
              "      <td>0.008735</td>\n",
              "      <td>-0.000368</td>\n",
              "      <td>-0.709417</td>\n",
              "      <td>0.182071</td>\n",
              "      <td>0.003181</td>\n",
              "      <td>19.000000</td>\n",
              "      <td>NaN</td>\n",
              "    </tr>\n",
              "    <tr>\n",
              "      <th>75%</th>\n",
              "      <td>0.288461</td>\n",
              "      <td>-0.010783</td>\n",
              "      <td>-0.097794</td>\n",
              "      <td>-0.242813</td>\n",
              "      <td>-0.034231</td>\n",
              "      <td>-0.262415</td>\n",
              "      <td>-0.292680</td>\n",
              "      <td>-0.066701</td>\n",
              "      <td>-0.265671</td>\n",
              "      <td>-0.017129</td>\n",
              "      <td>...</td>\n",
              "      <td>-0.503878</td>\n",
              "      <td>0.150865</td>\n",
              "      <td>0.292861</td>\n",
              "      <td>0.506187</td>\n",
              "      <td>0.359368</td>\n",
              "      <td>-0.509079</td>\n",
              "      <td>0.248353</td>\n",
              "      <td>0.107659</td>\n",
              "      <td>26.000000</td>\n",
              "      <td>NaN</td>\n",
              "    </tr>\n",
              "    <tr>\n",
              "      <th>max</th>\n",
              "      <td>1.000000</td>\n",
              "      <td>1.000000</td>\n",
              "      <td>1.000000</td>\n",
              "      <td>1.000000</td>\n",
              "      <td>0.916238</td>\n",
              "      <td>1.000000</td>\n",
              "      <td>1.000000</td>\n",
              "      <td>0.967664</td>\n",
              "      <td>1.000000</td>\n",
              "      <td>1.000000</td>\n",
              "      <td>...</td>\n",
              "      <td>0.956845</td>\n",
              "      <td>1.000000</td>\n",
              "      <td>1.000000</td>\n",
              "      <td>0.998702</td>\n",
              "      <td>0.996078</td>\n",
              "      <td>1.000000</td>\n",
              "      <td>0.478157</td>\n",
              "      <td>1.000000</td>\n",
              "      <td>30.000000</td>\n",
              "      <td>NaN</td>\n",
              "    </tr>\n",
              "  </tbody>\n",
              "</table>\n",
              "<p>11 rows × 563 columns</p>\n",
              "</div>\n",
              "      <button class=\"colab-df-convert\" onclick=\"convertToInteractive('df-e21ee284-dbeb-4d8d-8e54-48459f747c76')\"\n",
              "              title=\"Convert this dataframe to an interactive table.\"\n",
              "              style=\"display:none;\">\n",
              "        \n",
              "  <svg xmlns=\"http://www.w3.org/2000/svg\" height=\"24px\"viewBox=\"0 0 24 24\"\n",
              "       width=\"24px\">\n",
              "    <path d=\"M0 0h24v24H0V0z\" fill=\"none\"/>\n",
              "    <path d=\"M18.56 5.44l.94 2.06.94-2.06 2.06-.94-2.06-.94-.94-2.06-.94 2.06-2.06.94zm-11 1L8.5 8.5l.94-2.06 2.06-.94-2.06-.94L8.5 2.5l-.94 2.06-2.06.94zm10 10l.94 2.06.94-2.06 2.06-.94-2.06-.94-.94-2.06-.94 2.06-2.06.94z\"/><path d=\"M17.41 7.96l-1.37-1.37c-.4-.4-.92-.59-1.43-.59-.52 0-1.04.2-1.43.59L10.3 9.45l-7.72 7.72c-.78.78-.78 2.05 0 2.83L4 21.41c.39.39.9.59 1.41.59.51 0 1.02-.2 1.41-.59l7.78-7.78 2.81-2.81c.8-.78.8-2.07 0-2.86zM5.41 20L4 18.59l7.72-7.72 1.47 1.35L5.41 20z\"/>\n",
              "  </svg>\n",
              "      </button>\n",
              "      \n",
              "  <style>\n",
              "    .colab-df-container {\n",
              "      display:flex;\n",
              "      flex-wrap:wrap;\n",
              "      gap: 12px;\n",
              "    }\n",
              "\n",
              "    .colab-df-convert {\n",
              "      background-color: #E8F0FE;\n",
              "      border: none;\n",
              "      border-radius: 50%;\n",
              "      cursor: pointer;\n",
              "      display: none;\n",
              "      fill: #1967D2;\n",
              "      height: 32px;\n",
              "      padding: 0 0 0 0;\n",
              "      width: 32px;\n",
              "    }\n",
              "\n",
              "    .colab-df-convert:hover {\n",
              "      background-color: #E2EBFA;\n",
              "      box-shadow: 0px 1px 2px rgba(60, 64, 67, 0.3), 0px 1px 3px 1px rgba(60, 64, 67, 0.15);\n",
              "      fill: #174EA6;\n",
              "    }\n",
              "\n",
              "    [theme=dark] .colab-df-convert {\n",
              "      background-color: #3B4455;\n",
              "      fill: #D2E3FC;\n",
              "    }\n",
              "\n",
              "    [theme=dark] .colab-df-convert:hover {\n",
              "      background-color: #434B5C;\n",
              "      box-shadow: 0px 1px 3px 1px rgba(0, 0, 0, 0.15);\n",
              "      filter: drop-shadow(0px 1px 2px rgba(0, 0, 0, 0.3));\n",
              "      fill: #FFFFFF;\n",
              "    }\n",
              "  </style>\n",
              "\n",
              "      <script>\n",
              "        const buttonEl =\n",
              "          document.querySelector('#df-e21ee284-dbeb-4d8d-8e54-48459f747c76 button.colab-df-convert');\n",
              "        buttonEl.style.display =\n",
              "          google.colab.kernel.accessAllowed ? 'block' : 'none';\n",
              "\n",
              "        async function convertToInteractive(key) {\n",
              "          const element = document.querySelector('#df-e21ee284-dbeb-4d8d-8e54-48459f747c76');\n",
              "          const dataTable =\n",
              "            await google.colab.kernel.invokeFunction('convertToInteractive',\n",
              "                                                     [key], {});\n",
              "          if (!dataTable) return;\n",
              "\n",
              "          const docLinkHtml = 'Like what you see? Visit the ' +\n",
              "            '<a target=\"_blank\" href=https://colab.research.google.com/notebooks/data_table.ipynb>data table notebook</a>'\n",
              "            + ' to learn more about interactive tables.';\n",
              "          element.innerHTML = '';\n",
              "          dataTable['output_type'] = 'display_data';\n",
              "          await google.colab.output.renderOutput(dataTable, element);\n",
              "          const docLink = document.createElement('div');\n",
              "          docLink.innerHTML = docLinkHtml;\n",
              "          element.appendChild(docLink);\n",
              "        }\n",
              "      </script>\n",
              "    </div>\n",
              "  </div>\n",
              "  "
            ]
          },
          "metadata": {},
          "execution_count": 23
        }
      ],
      "source": [
        "train.describe(include='all')"
      ]
    },
    {
      "cell_type": "markdown",
      "metadata": {
        "id": "CMSCuqAnO0eP"
      },
      "source": [
        "## PCA"
      ]
    },
    {
      "cell_type": "code",
      "execution_count": 24,
      "metadata": {
        "colab": {
          "base_uri": "https://localhost:8080/"
        },
        "id": "Bbnj-crmO0eP",
        "outputId": "6d8f2af5-e2b7-4b57-cda6-751abc089d3a"
      },
      "outputs": [
        {
          "output_type": "stream",
          "name": "stdout",
          "text": [
            "(7352, 561) (7352, 10)\n",
            "(2947, 561) (2947, 10)\n"
          ]
        }
      ],
      "source": [
        "from sklearn.decomposition import PCA\n",
        "X_train = train.iloc[:,:-2]\n",
        "X_test = test.iloc[:,:-2]\n",
        "pca = PCA(n_components=10)\n",
        "pca.fit(X_train)\n",
        "X_train_pca = pca.transform(X_train)\n",
        "X_test_pca = pca.transform(X_test)\n",
        "print(X_train.shape,X_train_pca.shape)\n",
        "print(X_test.shape,X_test_pca.shape)"
      ]
    },
    {
      "cell_type": "code",
      "execution_count": 26,
      "metadata": {
        "colab": {
          "base_uri": "https://localhost:8080/"
        },
        "id": "PoMdFavuO0eQ",
        "outputId": "f3dba87a-0148-4e35-e0c4-9dba469bce28"
      },
      "outputs": [
        {
          "output_type": "stream",
          "name": "stdout",
          "text": [
            "Train Accuracy : 0.9246463547334058\n",
            "Test Accuracy : 0.8544282321004412\n"
          ]
        }
      ],
      "source": [
        "xg = XGBClassifier().fit(X_train_pca,Y_train_encoded)\n",
        "print (\"Train Accuracy : {}\".format(accuracy_score(Y_train_encoded,xg.predict(X_train_pca))))\n",
        "print (\"Test Accuracy : {}\".format(accuracy_score(Y_test_encoded,xg.predict(X_test_pca))))"
      ]
    },
    {
      "cell_type": "code",
      "execution_count": 29,
      "metadata": {
        "colab": {
          "base_uri": "https://localhost:8080/"
        },
        "id": "_EXOBb7bO0eQ",
        "outputId": "08727068-a00a-4a05-ae69-229c296e1d5f"
      },
      "outputs": [
        {
          "output_type": "stream",
          "name": "stdout",
          "text": [
            "10 : 0.8561248727519511\n",
            "20 : 0.8680013573125213\n",
            "30 : 0.8900576857821514\n",
            "40 : 0.8934509670851714\n",
            "50 : 0.8934509670851714\n",
            "60 : 0.9002375296912114\n",
            "70 : 0.9009161859518154\n",
            "80 : 0.9015948422124194\n",
            "90 : 0.9053274516457415\n",
            "100 : 0.9046487953851374\n",
            "110 : 0.9077027485578555\n",
            "120 : 0.9053274516457415\n",
            "130 : 0.9056667797760435\n",
            "140 : 0.9077027485578555\n",
            "150 : 0.9083814048184594\n",
            "160 : 0.9100780454699695\n",
            "170 : 0.9114353579911775\n",
            "180 : 0.9093993892093655\n",
            "190 : 0.9093993892093655\n",
            "200 : 0.9117746861214795\n",
            "210 : 0.9117746861214795\n",
            "220 : 0.9124533423820834\n",
            "230 : 0.9110960298608755\n",
            "240 : 0.9148286392941974\n",
            "250 : 0.9148286392941974\n"
          ]
        }
      ],
      "source": [
        "r = range(10,251,10)\n",
        "pca_scores = []\n",
        "for i in r:\n",
        "    pca = PCA(n_components=i,random_state=0).fit(X_train)\n",
        "    X_train_pca = pca.transform(X_train)\n",
        "    X_test_pca = pca.transform(X_test)\n",
        "    xg = XGBClassifier().fit(X_train_pca,Y_train_encoded)\n",
        "    acc = accuracy_score(Y_test_encoded,xg.predict(X_test_pca))\n",
        "    pca_scores.append(acc)\n",
        "    print(\"{} : {}\".format(i,acc))"
      ]
    },
    {
      "cell_type": "code",
      "execution_count": null,
      "metadata": {
        "colab": {
          "base_uri": "https://localhost:8080/",
          "height": 1000
        },
        "id": "pEhgImucO0eQ",
        "outputId": "3df2dc6c-8073-48ed-e0c5-90901a220ec9"
      },
      "outputs": [
        {
          "output_type": "execute_result",
          "data": {
            "text/plain": [
              "([<matplotlib.axis.XTick at 0x7f2dff4eb710>,\n",
              "  <matplotlib.axis.XTick at 0x7f2dff4eb3d0>,\n",
              "  <matplotlib.axis.XTick at 0x7f2dff50b950>,\n",
              "  <matplotlib.axis.XTick at 0x7f2dff4f0210>,\n",
              "  <matplotlib.axis.XTick at 0x7f2dff497210>,\n",
              "  <matplotlib.axis.XTick at 0x7f2dff497d50>,\n",
              "  <matplotlib.axis.XTick at 0x7f2dff49c5d0>,\n",
              "  <matplotlib.axis.XTick at 0x7f2dff49c790>,\n",
              "  <matplotlib.axis.XTick at 0x7f2dff4a18d0>,\n",
              "  <matplotlib.axis.XTick at 0x7f2dff49cad0>,\n",
              "  <matplotlib.axis.XTick at 0x7f2dff4f0f90>,\n",
              "  <matplotlib.axis.XTick at 0x7f2dff4a1750>,\n",
              "  <matplotlib.axis.XTick at 0x7f2dff4a9550>,\n",
              "  <matplotlib.axis.XTick at 0x7f2dff4a9b90>,\n",
              "  <matplotlib.axis.XTick at 0x7f2dff4af550>,\n",
              "  <matplotlib.axis.XTick at 0x7f2dff4af690>,\n",
              "  <matplotlib.axis.XTick at 0x7f2dff4afe10>,\n",
              "  <matplotlib.axis.XTick at 0x7f2dff4b4150>,\n",
              "  <matplotlib.axis.XTick at 0x7f2dff4b4210>,\n",
              "  <matplotlib.axis.XTick at 0x7f2dff4af710>,\n",
              "  <matplotlib.axis.XTick at 0x7f2dff4a1e50>,\n",
              "  <matplotlib.axis.XTick at 0x7f2dff4b9150>,\n",
              "  <matplotlib.axis.XTick at 0x7f2dff4b9b90>,\n",
              "  <matplotlib.axis.XTick at 0x7f2dff4c06d0>,\n",
              "  <matplotlib.axis.XTick at 0x7f2dff4c0590>],\n",
              " <a list of 25 Text major ticklabel objects>)"
            ]
          },
          "metadata": {},
          "execution_count": 19
        },
        {
          "output_type": "display_data",
          "data": {
            "text/plain": [
              "<Figure size 720x720 with 1 Axes>"
            ],
            "image/png": "[encoded data removed]"
          },
          "metadata": {
            "needs_background": "light"
          }
        }
      ],
      "source": [
        "plt.figure(figsize=(10,10))\n",
        "plt.xlabel('n_components in PCA')\n",
        "plt.ylabel('Accuracy')\n",
        "plt.scatter(range(10,260,10),pca_scores)\n",
        "plt.xticks(range(10,260,10))"
      ]
    },
    {
      "cell_type": "code",
      "execution_count": 30,
      "metadata": {
        "colab": {
          "base_uri": "https://localhost:8080/"
        },
        "id": "Crby_Mm9O0eR",
        "outputId": "12ef9c8e-52c9-4c60-abd1-9a73d44f069c"
      },
      "outputs": [
        {
          "output_type": "stream",
          "name": "stdout",
          "text": [
            " Train Accuracy : 0.9892546245919478\n",
            " Test Accuracy : 0.9093993892093655\n"
          ]
        }
      ],
      "source": [
        "pca = PCA(n_components=180,random_state=0).fit(X_train)\n",
        "X_train_pca = pca.transform(X_train)\n",
        "X_test_pca = pca.transform(X_test)\n",
        "xg = XGBClassifier().fit(X_train_pca,Y_train_encoded)\n",
        "print (\" Train Accuracy : {}\".format(accuracy_score(Y_train_encoded,xg.predict(X_train_pca))))\n",
        "print (\" Test Accuracy : {}\".format(accuracy_score(Y_test_encoded,xg.predict(X_test_pca))))"
      ]
    },
    {
      "cell_type": "code",
      "execution_count": 31,
      "metadata": {
        "colab": {
          "base_uri": "https://localhost:8080/"
        },
        "id": "JKtXMmeiO0eR",
        "outputId": "b33bb414-d21d-4e96-c131-283f19e863c1"
      },
      "outputs": [
        {
          "output_type": "stream",
          "name": "stdout",
          "text": [
            "0.01 : 0.8164234815066169\n",
            "0.1 : 0.9093993892093655\n",
            "1 : 0.9345096708517137\n"
          ]
        }
      ],
      "source": [
        "pca_test_scores = []\n",
        "for i in ['0.01','0.1','1']:\n",
        "    xg = XGBClassifier(learning_rate=i)\n",
        "    xg.fit(X_train_pca,Y_train_encoded)\n",
        "    acc = accuracy_score(Y_test_encoded,xg.predict(X_test_pca))\n",
        "    pca_test_scores.append(acc)\n",
        "    print(\"{} : {}\".format(i,acc))"
      ]
    },
    {
      "cell_type": "code",
      "execution_count": 35,
      "metadata": {
        "colab": {
          "base_uri": "https://localhost:8080/",
          "height": 465
        },
        "id": "WsGGfD3yO0eR",
        "outputId": "03259740-5a37-49fa-c2fc-136ae8bbd78a"
      },
      "outputs": [
        {
          "output_type": "execute_result",
          "data": {
            "text/plain": [
              "([<matplotlib.axis.XTick at 0x7ff5750fffd0>],\n",
              " <a list of 1 Text major ticklabel objects>)"
            ]
          },
          "metadata": {},
          "execution_count": 35
        },
        {
          "output_type": "display_data",
          "data": {
            "text/plain": [
              "<Figure size 720x504 with 1 Axes>"
            ],
            "image/png": "[encoded data removed]"
          },
          "metadata": {
            "needs_background": "light"
          }
        }
      ],
      "source": [
        "plt.figure(figsize=(10,7))\n",
        "plt.xlabel('learning_rate in PCA')\n",
        "plt.ylabel('Accuracy')\n",
        "plt.scatter(range(1,4),pca_test_scores)\n",
        "plt.xticks(np.round(np.arange(0.01, 0.1, 1),2))"
      ]
    },
    {
      "cell_type": "markdown",
      "metadata": {
        "id": "cXaMbejBO0eS"
      },
      "source": [
        "## Training model with 1 learning rate"
      ]
    },
    {
      "cell_type": "code",
      "execution_count": 36,
      "metadata": {
        "colab": {
          "base_uri": "https://localhost:8080/"
        },
        "id": "RN8cvtpKO0eS",
        "outputId": "2ec93971-344e-4142-8dae-63cbab63e4e7"
      },
      "outputs": [
        {
          "output_type": "stream",
          "name": "stdout",
          "text": [
            " Train Accuracy : 1.0\n",
            " Test Accuracy : 0.9345096708517137\n"
          ]
        }
      ],
      "source": [
        "xg = XGBClassifier(learning_rate=1)\n",
        "xg.fit(X_train_pca,Y_train_encoded)\n",
        "print (\" Train Accuracy : {}\".format(accuracy_score(Y_train_encoded,xg.predict(X_train_pca))))\n",
        "print (\" Test Accuracy : {}\".format(accuracy_score(Y_test_encoded,xg.predict(X_test_pca))))"
      ]
    },
    {
      "cell_type": "code",
      "execution_count": 37,
      "metadata": {
        "colab": {
          "base_uri": "https://localhost:8080/",
          "height": 392
        },
        "id": "TsOHIzYTO0eS",
        "outputId": "240d795a-fbff-42c4-951b-326f641e427f"
      },
      "outputs": [
        {
          "output_type": "execute_result",
          "data": {
            "text/plain": [
              "<matplotlib.axes._subplots.AxesSubplot at 0x7ff57523c850>"
            ]
          },
          "metadata": {},
          "execution_count": 37
        },
        {
          "output_type": "display_data",
          "data": {
            "text/plain": [
              "<Figure size 432x288 with 2 Axes>"
            ],
            "image/png": "[encoded data removed]"
          },
          "metadata": {
            "needs_background": "light"
          }
        }
      ],
      "source": [
        "from sklearn.metrics import confusion_matrix,precision_score,recall_score,f1_score\n",
        "sns.heatmap(data=confusion_matrix(Y_test_encoded,xg.predict(X_test_pca)),\n",
        "            fmt ='.0f',\n",
        "            annot=True,\n",
        "            xticklabels=np.unique(Y_test),\n",
        "            yticklabels=np.unique(Y_test))"
      ]
    },
    {
      "cell_type": "code",
      "execution_count": 38,
      "metadata": {
        "colab": {
          "base_uri": "https://localhost:8080/"
        },
        "id": "ZLN18sCkO0eS",
        "outputId": "163d2b7f-6b7a-4268-b27f-cc14ab4f2bef"
      },
      "outputs": [
        {
          "output_type": "stream",
          "name": "stdout",
          "text": [
            "Accuracy Score : 0.9345096708517137\n",
            "Precision Score: 0.9358393954606936\n",
            "Recall Acore : 0.9326061531020038\n",
            "F1 Score : 0.9335016487887167\n"
          ]
        }
      ],
      "source": [
        "print (\"Accuracy Score : {}\".format(accuracy_score(Y_test_encoded,xg.predict(X_test_pca))))\n",
        "print (\"Precision Score: {}\".format(precision_score(Y_test_encoded,xg.predict(X_test_pca),average='macro')))\n",
        "print (\"Recall Acore : {}\".format(recall_score(Y_test_encoded,xg.predict(X_test_pca),average='macro')))\n",
        "print (\"F1 Score : {}\".format(f1_score(Y_test_encoded,xg.predict(X_test_pca),average='macro')))"
      ]
    },
    {
      "cell_type": "code",
      "execution_count": 39,
      "metadata": {
        "colab": {
          "base_uri": "https://localhost:8080/"
        },
        "id": "NzUlNlZUO0eS",
        "outputId": "5c1c68ab-5041-4ce8-c9f1-b89e2c973805"
      },
      "outputs": [
        {
          "output_type": "stream",
          "name": "stdout",
          "text": [
            "              precision    recall  f1-score   support\n",
            "\n",
            "           0       0.99      0.99      0.99       537\n",
            "           1       0.93      0.86      0.89       491\n",
            "           2       0.88      0.95      0.91       532\n",
            "           3       0.91      0.97      0.94       496\n",
            "           4       0.94      0.90      0.92       420\n",
            "           5       0.96      0.93      0.95       471\n",
            "\n",
            "    accuracy                           0.93      2947\n",
            "   macro avg       0.94      0.93      0.93      2947\n",
            "weighted avg       0.94      0.93      0.93      2947\n",
            "\n"
          ]
        }
      ],
      "source": [
        "from sklearn.metrics import classification_report\n",
        "print(classification_report(Y_test_encoded,xg.predict(X_test_pca)))"
      ]
    },
    {
      "cell_type": "code",
      "execution_count": null,
      "metadata": {
        "collapsed": true,
        "id": "V0BA3zyAO0eT"
      },
      "outputs": [],
      "source": []
    }
  ],
  "metadata": {
    "kernelspec": {
      "display_name": "Python 3",
      "language": "python",
      "name": "python3"
    },
    "language_info": {
      "codemirror_mode": {
        "name": "ipython",
        "version": 3
      },
      "file_extension": ".py",
      "mimetype": "text/x-python",
      "name": "python",
      "nbconvert_exporter": "python",
      "pygments_lexer": "ipython3",
      "version": "3.6.1"
    },
    "colab": {
      "provenance": []
    }
  },
  "nbformat": 4,
  "nbformat_minor": 0
}