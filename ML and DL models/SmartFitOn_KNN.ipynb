{
  "cells": [
    {
      "cell_type": "code",
      "execution_count": 1,
      "metadata": {
        "collapsed": true,
        "id": "-zk-HsUUO0d3"
      },
      "outputs": [],
      "source": [
        "import numpy as np\n",
        "import pandas as pd\n",
        "import seaborn as sns\n",
        "import matplotlib.pyplot as plt\n",
        "\n",
        "%matplotlib inline"
      ]
    },
    {
      "cell_type": "code",
      "execution_count": 2,
      "metadata": {
        "collapsed": true,
        "id": "4YRqKU76O0eD"
      },
      "outputs": [],
      "source": [
        "from sklearn.neighbors import KNeighborsClassifier\n",
        "from sklearn.metrics import accuracy_score"
      ]
    },
    {
      "cell_type": "code",
      "source": [
        "from google.colab import drive\n",
        "drive.mount('/content/drive')"
      ],
      "metadata": {
        "colab": {
          "base_uri": "https://localhost:8080/"
        },
        "id": "oEu_KESAO4XD",
        "outputId": "086c5cdc-3ae4-44aa-8f68-d6ddf47c16c8"
      },
      "execution_count": 3,
      "outputs": [
        {
          "output_type": "stream",
          "name": "stdout",
          "text": [
            "Mounted at /content/drive\n"
          ]
        }
      ]
    },
    {
      "cell_type": "code",
      "execution_count": 4,
      "metadata": {
        "colab": {
          "base_uri": "https://localhost:8080/"
        },
        "id": "JOZjBpSmO0eD",
        "outputId": "c04c194c-c3cf-40ee-cf33-af8c78aa41dd"
      },
      "outputs": [
        {
          "output_type": "stream",
          "name": "stdout",
          "text": [
            "(7352, 563) (2947, 563)\n"
          ]
        }
      ],
      "source": [
        "train = pd.read_csv('/content/drive/MyDrive/Dataset/Dataset/train.csv')\n",
        "test = pd.read_csv('/content/drive/MyDrive/Dataset/Dataset/test.csv')\n",
        "print(train.shape,test.shape)"
      ]
    },
    {
      "cell_type": "code",
      "execution_count": 5,
      "metadata": {
        "colab": {
          "base_uri": "https://localhost:8080/"
        },
        "id": "HVE5DJuHO0eF",
        "outputId": "a269fb41-1c02-4c04-fa0e-c99f15b343a9"
      },
      "outputs": [
        {
          "output_type": "execute_result",
          "data": {
            "text/plain": [
              "KNeighborsClassifier()"
            ]
          },
          "metadata": {},
          "execution_count": 5
        }
      ],
      "source": [
        "knn = KNeighborsClassifier()\n",
        "knn"
      ]
    },
    {
      "cell_type": "code",
      "execution_count": 6,
      "metadata": {
        "colab": {
          "base_uri": "https://localhost:8080/",
          "height": 317
        },
        "id": "glxj8DJ2O0eF",
        "outputId": "b1e7ca4e-2a79-4093-ee47-1b0572e6ec1f"
      },
      "outputs": [
        {
          "output_type": "execute_result",
          "data": {
            "text/plain": [
              "   tBodyAcc-mean()-X  tBodyAcc-mean()-Y  tBodyAcc-mean()-Z  tBodyAcc-std()-X  \\\n",
              "0           0.288585          -0.020294          -0.132905         -0.995279   \n",
              "1           0.278419          -0.016411          -0.123520         -0.998245   \n",
              "2           0.279653          -0.019467          -0.113462         -0.995380   \n",
              "3           0.279174          -0.026201          -0.123283         -0.996091   \n",
              "4           0.276629          -0.016570          -0.115362         -0.998139   \n",
              "\n",
              "   tBodyAcc-std()-Y  tBodyAcc-std()-Z  tBodyAcc-mad()-X  tBodyAcc-mad()-Y  \\\n",
              "0         -0.983111         -0.913526         -0.995112         -0.983185   \n",
              "1         -0.975300         -0.960322         -0.998807         -0.974914   \n",
              "2         -0.967187         -0.978944         -0.996520         -0.963668   \n",
              "3         -0.983403         -0.990675         -0.997099         -0.982750   \n",
              "4         -0.980817         -0.990482         -0.998321         -0.979672   \n",
              "\n",
              "   tBodyAcc-mad()-Z  tBodyAcc-max()-X  ...  fBodyBodyGyroJerkMag-kurtosis()  \\\n",
              "0         -0.923527         -0.934724  ...                        -0.710304   \n",
              "1         -0.957686         -0.943068  ...                        -0.861499   \n",
              "2         -0.977469         -0.938692  ...                        -0.760104   \n",
              "3         -0.989302         -0.938692  ...                        -0.482845   \n",
              "4         -0.990441         -0.942469  ...                        -0.699205   \n",
              "\n",
              "   angle(tBodyAccMean,gravity)  angle(tBodyAccJerkMean),gravityMean)  \\\n",
              "0                    -0.112754                              0.030400   \n",
              "1                     0.053477                             -0.007435   \n",
              "2                    -0.118559                              0.177899   \n",
              "3                    -0.036788                             -0.012892   \n",
              "4                     0.123320                              0.122542   \n",
              "\n",
              "   angle(tBodyGyroMean,gravityMean)  angle(tBodyGyroJerkMean,gravityMean)  \\\n",
              "0                         -0.464761                             -0.018446   \n",
              "1                         -0.732626                              0.703511   \n",
              "2                          0.100699                              0.808529   \n",
              "3                          0.640011                             -0.485366   \n",
              "4                          0.693578                             -0.615971   \n",
              "\n",
              "   angle(X,gravityMean)  angle(Y,gravityMean)  angle(Z,gravityMean)  subject  \\\n",
              "0             -0.841247              0.179941             -0.058627        1   \n",
              "1             -0.844788              0.180289             -0.054317        1   \n",
              "2             -0.848933              0.180637             -0.049118        1   \n",
              "3             -0.848649              0.181935             -0.047663        1   \n",
              "4             -0.847865              0.185151             -0.043892        1   \n",
              "\n",
              "   Activity  \n",
              "0  STANDING  \n",
              "1  STANDING  \n",
              "2  STANDING  \n",
              "3  STANDING  \n",
              "4  STANDING  \n",
              "\n",
              "[5 rows x 563 columns]"
            ],
            "text/html": [
              "\n",
              "  <div id=\"df-1570a9ec-6ac3-46ae-9c90-0fa735a70ec6\">\n",
              "    <div class=\"colab-df-container\">\n",
              "      <div>\n",
              "<style scoped>\n",
              "    .dataframe tbody tr th:only-of-type {\n",
              "        vertical-align: middle;\n",
              "    }\n",
              "\n",
              "    .dataframe tbody tr th {\n",
              "        vertical-align: top;\n",
              "    }\n",
              "\n",
              "    .dataframe thead th {\n",
              "        text-align: right;\n",
              "    }\n",
              "</style>\n",
              "<table border=\"1\" class=\"dataframe\">\n",
              "  <thead>\n",
              "    <tr style=\"text-align: right;\">\n",
              "      <th></th>\n",
              "      <th>tBodyAcc-mean()-X</th>\n",
              "      <th>tBodyAcc-mean()-Y</th>\n",
              "      <th>tBodyAcc-mean()-Z</th>\n",
              "      <th>tBodyAcc-std()-X</th>\n",
              "      <th>tBodyAcc-std()-Y</th>\n",
              "      <th>tBodyAcc-std()-Z</th>\n",
              "      <th>tBodyAcc-mad()-X</th>\n",
              "      <th>tBodyAcc-mad()-Y</th>\n",
              "      <th>tBodyAcc-mad()-Z</th>\n",
              "      <th>tBodyAcc-max()-X</th>\n",
              "      <th>...</th>\n",
              "      <th>fBodyBodyGyroJerkMag-kurtosis()</th>\n",
              "      <th>angle(tBodyAccMean,gravity)</th>\n",
              "      <th>angle(tBodyAccJerkMean),gravityMean)</th>\n",
              "      <th>angle(tBodyGyroMean,gravityMean)</th>\n",
              "      <th>angle(tBodyGyroJerkMean,gravityMean)</th>\n",
              "      <th>angle(X,gravityMean)</th>\n",
              "      <th>angle(Y,gravityMean)</th>\n",
              "      <th>angle(Z,gravityMean)</th>\n",
              "      <th>subject</th>\n",
              "      <th>Activity</th>\n",
              "    </tr>\n",
              "  </thead>\n",
              "  <tbody>\n",
              "    <tr>\n",
              "      <th>0</th>\n",
              "      <td>0.288585</td>\n",
              "      <td>-0.020294</td>\n",
              "      <td>-0.132905</td>\n",
              "      <td>-0.995279</td>\n",
              "      <td>-0.983111</td>\n",
              "      <td>-0.913526</td>\n",
              "      <td>-0.995112</td>\n",
              "      <td>-0.983185</td>\n",
              "      <td>-0.923527</td>\n",
              "      <td>-0.934724</td>\n",
              "      <td>...</td>\n",
              "      <td>-0.710304</td>\n",
              "      <td>-0.112754</td>\n",
              "      <td>0.030400</td>\n",
              "      <td>-0.464761</td>\n",
              "      <td>-0.018446</td>\n",
              "      <td>-0.841247</td>\n",
              "      <td>0.179941</td>\n",
              "      <td>-0.058627</td>\n",
              "      <td>1</td>\n",
              "      <td>STANDING</td>\n",
              "    </tr>\n",
              "    <tr>\n",
              "      <th>1</th>\n",
              "      <td>0.278419</td>\n",
              "      <td>-0.016411</td>\n",
              "      <td>-0.123520</td>\n",
              "      <td>-0.998245</td>\n",
              "      <td>-0.975300</td>\n",
              "      <td>-0.960322</td>\n",
              "      <td>-0.998807</td>\n",
              "      <td>-0.974914</td>\n",
              "      <td>-0.957686</td>\n",
              "      <td>-0.943068</td>\n",
              "      <td>...</td>\n",
              "      <td>-0.861499</td>\n",
              "      <td>0.053477</td>\n",
              "      <td>-0.007435</td>\n",
              "      <td>-0.732626</td>\n",
              "      <td>0.703511</td>\n",
              "      <td>-0.844788</td>\n",
              "      <td>0.180289</td>\n",
              "      <td>-0.054317</td>\n",
              "      <td>1</td>\n",
              "      <td>STANDING</td>\n",
              "    </tr>\n",
              "    <tr>\n",
              "      <th>2</th>\n",
              "      <td>0.279653</td>\n",
              "      <td>-0.019467</td>\n",
              "      <td>-0.113462</td>\n",
              "      <td>-0.995380</td>\n",
              "      <td>-0.967187</td>\n",
              "      <td>-0.978944</td>\n",
              "      <td>-0.996520</td>\n",
              "      <td>-0.963668</td>\n",
              "      <td>-0.977469</td>\n",
              "      <td>-0.938692</td>\n",
              "      <td>...</td>\n",
              "      <td>-0.760104</td>\n",
              "      <td>-0.118559</td>\n",
              "      <td>0.177899</td>\n",
              "      <td>0.100699</td>\n",
              "      <td>0.808529</td>\n",
              "      <td>-0.848933</td>\n",
              "      <td>0.180637</td>\n",
              "      <td>-0.049118</td>\n",
              "      <td>1</td>\n",
              "      <td>STANDING</td>\n",
              "    </tr>\n",
              "    <tr>\n",
              "      <th>3</th>\n",
              "      <td>0.279174</td>\n",
              "      <td>-0.026201</td>\n",
              "      <td>-0.123283</td>\n",
              "      <td>-0.996091</td>\n",
              "      <td>-0.983403</td>\n",
              "      <td>-0.990675</td>\n",
              "      <td>-0.997099</td>\n",
              "      <td>-0.982750</td>\n",
              "      <td>-0.989302</td>\n",
              "      <td>-0.938692</td>\n",
              "      <td>...</td>\n",
              "      <td>-0.482845</td>\n",
              "      <td>-0.036788</td>\n",
              "      <td>-0.012892</td>\n",
              "      <td>0.640011</td>\n",
              "      <td>-0.485366</td>\n",
              "      <td>-0.848649</td>\n",
              "      <td>0.181935</td>\n",
              "      <td>-0.047663</td>\n",
              "      <td>1</td>\n",
              "      <td>STANDING</td>\n",
              "    </tr>\n",
              "    <tr>\n",
              "      <th>4</th>\n",
              "      <td>0.276629</td>\n",
              "      <td>-0.016570</td>\n",
              "      <td>-0.115362</td>\n",
              "      <td>-0.998139</td>\n",
              "      <td>-0.980817</td>\n",
              "      <td>-0.990482</td>\n",
              "      <td>-0.998321</td>\n",
              "      <td>-0.979672</td>\n",
              "      <td>-0.990441</td>\n",
              "      <td>-0.942469</td>\n",
              "      <td>...</td>\n",
              "      <td>-0.699205</td>\n",
              "      <td>0.123320</td>\n",
              "      <td>0.122542</td>\n",
              "      <td>0.693578</td>\n",
              "      <td>-0.615971</td>\n",
              "      <td>-0.847865</td>\n",
              "      <td>0.185151</td>\n",
              "      <td>-0.043892</td>\n",
              "      <td>1</td>\n",
              "      <td>STANDING</td>\n",
              "    </tr>\n",
              "  </tbody>\n",
              "</table>\n",
              "<p>5 rows × 563 columns</p>\n",
              "</div>\n",
              "      <button class=\"colab-df-convert\" onclick=\"convertToInteractive('df-1570a9ec-6ac3-46ae-9c90-0fa735a70ec6')\"\n",
              "              title=\"Convert this dataframe to an interactive table.\"\n",
              "              style=\"display:none;\">\n",
              "        \n",
              "  <svg xmlns=\"http://www.w3.org/2000/svg\" height=\"24px\"viewBox=\"0 0 24 24\"\n",
              "       width=\"24px\">\n",
              "    <path d=\"M0 0h24v24H0V0z\" fill=\"none\"/>\n",
              "    <path d=\"M18.56 5.44l.94 2.06.94-2.06 2.06-.94-2.06-.94-.94-2.06-.94 2.06-2.06.94zm-11 1L8.5 8.5l.94-2.06 2.06-.94-2.06-.94L8.5 2.5l-.94 2.06-2.06.94zm10 10l.94 2.06.94-2.06 2.06-.94-2.06-.94-.94-2.06-.94 2.06-2.06.94z\"/><path d=\"M17.41 7.96l-1.37-1.37c-.4-.4-.92-.59-1.43-.59-.52 0-1.04.2-1.43.59L10.3 9.45l-7.72 7.72c-.78.78-.78 2.05 0 2.83L4 21.41c.39.39.9.59 1.41.59.51 0 1.02-.2 1.41-.59l7.78-7.78 2.81-2.81c.8-.78.8-2.07 0-2.86zM5.41 20L4 18.59l7.72-7.72 1.47 1.35L5.41 20z\"/>\n",
              "  </svg>\n",
              "      </button>\n",
              "      \n",
              "  <style>\n",
              "    .colab-df-container {\n",
              "      display:flex;\n",
              "      flex-wrap:wrap;\n",
              "      gap: 12px;\n",
              "    }\n",
              "\n",
              "    .colab-df-convert {\n",
              "      background-color: #E8F0FE;\n",
              "      border: none;\n",
              "      border-radius: 50%;\n",
              "      cursor: pointer;\n",
              "      display: none;\n",
              "      fill: #1967D2;\n",
              "      height: 32px;\n",
              "      padding: 0 0 0 0;\n",
              "      width: 32px;\n",
              "    }\n",
              "\n",
              "    .colab-df-convert:hover {\n",
              "      background-color: #E2EBFA;\n",
              "      box-shadow: 0px 1px 2px rgba(60, 64, 67, 0.3), 0px 1px 3px 1px rgba(60, 64, 67, 0.15);\n",
              "      fill: #174EA6;\n",
              "    }\n",
              "\n",
              "    [theme=dark] .colab-df-convert {\n",
              "      background-color: #3B4455;\n",
              "      fill: #D2E3FC;\n",
              "    }\n",
              "\n",
              "    [theme=dark] .colab-df-convert:hover {\n",
              "      background-color: #434B5C;\n",
              "      box-shadow: 0px 1px 3px 1px rgba(0, 0, 0, 0.15);\n",
              "      filter: drop-shadow(0px 1px 2px rgba(0, 0, 0, 0.3));\n",
              "      fill: #FFFFFF;\n",
              "    }\n",
              "  </style>\n",
              "\n",
              "      <script>\n",
              "        const buttonEl =\n",
              "          document.querySelector('#df-1570a9ec-6ac3-46ae-9c90-0fa735a70ec6 button.colab-df-convert');\n",
              "        buttonEl.style.display =\n",
              "          google.colab.kernel.accessAllowed ? 'block' : 'none';\n",
              "\n",
              "        async function convertToInteractive(key) {\n",
              "          const element = document.querySelector('#df-1570a9ec-6ac3-46ae-9c90-0fa735a70ec6');\n",
              "          const dataTable =\n",
              "            await google.colab.kernel.invokeFunction('convertToInteractive',\n",
              "                                                     [key], {});\n",
              "          if (!dataTable) return;\n",
              "\n",
              "          const docLinkHtml = 'Like what you see? Visit the ' +\n",
              "            '<a target=\"_blank\" href=https://colab.research.google.com/notebooks/data_table.ipynb>data table notebook</a>'\n",
              "            + ' to learn more about interactive tables.';\n",
              "          element.innerHTML = '';\n",
              "          dataTable['output_type'] = 'display_data';\n",
              "          await google.colab.output.renderOutput(dataTable, element);\n",
              "          const docLink = document.createElement('div');\n",
              "          docLink.innerHTML = docLinkHtml;\n",
              "          element.appendChild(docLink);\n",
              "        }\n",
              "      </script>\n",
              "    </div>\n",
              "  </div>\n",
              "  "
            ]
          },
          "metadata": {},
          "execution_count": 6
        }
      ],
      "source": [
        "train.head()"
      ]
    },
    {
      "cell_type": "code",
      "execution_count": 7,
      "metadata": {
        "collapsed": true,
        "id": "tEA4WW-jO0eG"
      },
      "outputs": [],
      "source": [
        "from sklearn.preprocessing import LabelEncoder\n",
        "\n",
        "X_train = train.iloc[:,:-2]\n",
        "Y_train = train['Activity']\n",
        "le = LabelEncoder()\n",
        "le.fit(['STANDING', 'SITTING', 'LAYING', 'WALKING', 'WALKING_DOWNSTAIRS','WALKING_UPSTAIRS'] )\n",
        "Y_train_encoded = le.transform(Y_train)"
      ]
    },
    {
      "cell_type": "code",
      "execution_count": 8,
      "metadata": {
        "collapsed": true,
        "id": "uSZnKfa-O0eH"
      },
      "outputs": [],
      "source": [
        "X_test = test.iloc[:,:-2]\n",
        "Y_test = test['Activity']\n",
        "Y_test_encoded = le.transform(Y_test)"
      ]
    },
    {
      "cell_type": "markdown",
      "metadata": {
        "id": "8z-37mmUO0eH"
      },
      "source": [
        "## Training model using all features"
      ]
    },
    {
      "cell_type": "code",
      "execution_count": 9,
      "metadata": {
        "colab": {
          "base_uri": "https://localhost:8080/"
        },
        "id": "SnH3OFSzO0eK",
        "outputId": "b687ae2d-6ef7-4757-fc69-f4fff5898fb5"
      },
      "outputs": [
        {
          "output_type": "stream",
          "name": "stdout",
          "text": [
            "K Nearest Neighbors Train Accuracy : 0.984221980413493\n",
            "K Nearest Neighbors Test Accuracy : 0.9002375296912114\n"
          ]
        }
      ],
      "source": [
        "knn.fit(X_train,Y_train_encoded)\n",
        "print (\"K Nearest Neighbors Train Accuracy : {}\".format(accuracy_score(Y_train_encoded,knn.predict(X_train))))\n",
        "print (\"K Nearest Neighbors Test Accuracy : {}\".format(accuracy_score(Y_test_encoded,knn.predict(X_test))))"
      ]
    },
    {
      "cell_type": "markdown",
      "metadata": {
        "id": "tgC-YgCUO0eL"
      },
      "source": [
        "## Selecting no. of neighbors"
      ]
    },
    {
      "cell_type": "code",
      "execution_count": 10,
      "metadata": {
        "collapsed": true,
        "id": "CKfAkjPqO0eL"
      },
      "outputs": [],
      "source": [
        "test_scores = []\n",
        "for i in range(1,20):\n",
        "    kn = KNeighborsClassifier(n_neighbors=i)\n",
        "    kn.fit(X_train,Y_train_encoded)\n",
        "    acc = accuracy_score(Y_test_encoded,kn.predict(X_test))\n",
        "    test_scores.append(acc)"
      ]
    },
    {
      "cell_type": "code",
      "execution_count": 11,
      "metadata": {
        "colab": {
          "base_uri": "https://localhost:8080/",
          "height": 551
        },
        "id": "LBgV0k_BO0eM",
        "outputId": "946fcee3-2fbd-426e-b3e0-3fe7eb0da9de"
      },
      "outputs": [
        {
          "output_type": "execute_result",
          "data": {
            "text/plain": [
              "([<matplotlib.axis.XTick at 0x7eff45365650>,\n",
              "  <matplotlib.axis.XTick at 0x7eff43323750>,\n",
              "  <matplotlib.axis.XTick at 0x7eff43323290>,\n",
              "  <matplotlib.axis.XTick at 0x7eff432e2890>,\n",
              "  <matplotlib.axis.XTick at 0x7eff432e2dd0>],\n",
              " <a list of 5 Text major ticklabel objects>)"
            ]
          },
          "metadata": {},
          "execution_count": 11
        },
        {
          "output_type": "display_data",
          "data": {
            "text/plain": [
              "<Figure size 720x504 with 1 Axes>"
            ],
            "image/png": "[encoded data removed]"
          },
          "metadata": {
            "needs_background": "light"
          }
        }
      ],
      "source": [
        "plt.figure(figsize=(10,7))\n",
        "plt.xlabel('Neighbors')\n",
        "plt.ylabel('Accuracy')\n",
        "plt.scatter(range(1,20),test_scores)\n",
        "plt.xticks([0,5,10,15,20])"
      ]
    },
    {
      "cell_type": "markdown",
      "metadata": {
        "id": "gzTHnFUTO0eM"
      },
      "source": [
        "## Training model with 10 neighbors"
      ]
    },
    {
      "cell_type": "code",
      "execution_count": 12,
      "metadata": {
        "colab": {
          "base_uri": "https://localhost:8080/"
        },
        "id": "RiwSrGGCO0eN",
        "outputId": "5b69b5d4-7134-45c0-c9aa-f8c7885d8591"
      },
      "outputs": [
        {
          "output_type": "stream",
          "name": "stdout",
          "text": [
            "K Nearest Neighbors Train Accuracy : 0.9764689880304679\n",
            "K Nearest Neighbors Test Accuracy : 0.9066847641669494\n"
          ]
        }
      ],
      "source": [
        "kn = KNeighborsClassifier(n_neighbors=10)\n",
        "kn.fit(X_train,Y_train_encoded)\n",
        "print (\"K Nearest Neighbors Train Accuracy : {}\".format(accuracy_score(Y_train_encoded,kn.predict(X_train))))\n",
        "print (\"K Nearest Neighbors Test Accuracy : {}\".format(accuracy_score(Y_test_encoded,kn.predict(X_test))))"
      ]
    },
    {
      "cell_type": "code",
      "execution_count": 13,
      "metadata": {
        "colab": {
          "base_uri": "https://localhost:8080/",
          "height": 206
        },
        "id": "p2S5yYg5O0eN",
        "outputId": "d2c3269a-4cd8-4607-e891-fd0ec0ca154f"
      },
      "outputs": [
        {
          "output_type": "execute_result",
          "data": {
            "text/plain": [
              "   angle(X,gravityMean)  tGravityAcc-min()-X  tGravityAcc-mean()-Y  \\\n",
              "0             -0.841247             0.977436             -0.140840   \n",
              "1             -0.844788             0.984520             -0.141551   \n",
              "2             -0.848933             0.986770             -0.142010   \n",
              "3             -0.848649             0.986821             -0.143976   \n",
              "4             -0.847865             0.987434             -0.148750   \n",
              "\n",
              "   tGravityAcc-mean()-X  tBodyAcc-mad()-X  \n",
              "0              0.963396         -0.995112  \n",
              "1              0.966561         -0.998807  \n",
              "2              0.966878         -0.996520  \n",
              "3              0.967615         -0.997099  \n",
              "4              0.968224         -0.998321  "
            ],
            "text/html": [
              "\n",
              "  <div id=\"df-897f4a7a-fcc1-4c3c-a09b-8a53b661e060\">\n",
              "    <div class=\"colab-df-container\">\n",
              "      <div>\n",
              "<style scoped>\n",
              "    .dataframe tbody tr th:only-of-type {\n",
              "        vertical-align: middle;\n",
              "    }\n",
              "\n",
              "    .dataframe tbody tr th {\n",
              "        vertical-align: top;\n",
              "    }\n",
              "\n",
              "    .dataframe thead th {\n",
              "        text-align: right;\n",
              "    }\n",
              "</style>\n",
              "<table border=\"1\" class=\"dataframe\">\n",
              "  <thead>\n",
              "    <tr style=\"text-align: right;\">\n",
              "      <th></th>\n",
              "      <th>angle(X,gravityMean)</th>\n",
              "      <th>tGravityAcc-min()-X</th>\n",
              "      <th>tGravityAcc-mean()-Y</th>\n",
              "      <th>tGravityAcc-mean()-X</th>\n",
              "      <th>tBodyAcc-mad()-X</th>\n",
              "    </tr>\n",
              "  </thead>\n",
              "  <tbody>\n",
              "    <tr>\n",
              "      <th>0</th>\n",
              "      <td>-0.841247</td>\n",
              "      <td>0.977436</td>\n",
              "      <td>-0.140840</td>\n",
              "      <td>0.963396</td>\n",
              "      <td>-0.995112</td>\n",
              "    </tr>\n",
              "    <tr>\n",
              "      <th>1</th>\n",
              "      <td>-0.844788</td>\n",
              "      <td>0.984520</td>\n",
              "      <td>-0.141551</td>\n",
              "      <td>0.966561</td>\n",
              "      <td>-0.998807</td>\n",
              "    </tr>\n",
              "    <tr>\n",
              "      <th>2</th>\n",
              "      <td>-0.848933</td>\n",
              "      <td>0.986770</td>\n",
              "      <td>-0.142010</td>\n",
              "      <td>0.966878</td>\n",
              "      <td>-0.996520</td>\n",
              "    </tr>\n",
              "    <tr>\n",
              "      <th>3</th>\n",
              "      <td>-0.848649</td>\n",
              "      <td>0.986821</td>\n",
              "      <td>-0.143976</td>\n",
              "      <td>0.967615</td>\n",
              "      <td>-0.997099</td>\n",
              "    </tr>\n",
              "    <tr>\n",
              "      <th>4</th>\n",
              "      <td>-0.847865</td>\n",
              "      <td>0.987434</td>\n",
              "      <td>-0.148750</td>\n",
              "      <td>0.968224</td>\n",
              "      <td>-0.998321</td>\n",
              "    </tr>\n",
              "  </tbody>\n",
              "</table>\n",
              "</div>\n",
              "      <button class=\"colab-df-convert\" onclick=\"convertToInteractive('df-897f4a7a-fcc1-4c3c-a09b-8a53b661e060')\"\n",
              "              title=\"Convert this dataframe to an interactive table.\"\n",
              "              style=\"display:none;\">\n",
              "        \n",
              "  <svg xmlns=\"http://www.w3.org/2000/svg\" height=\"24px\"viewBox=\"0 0 24 24\"\n",
              "       width=\"24px\">\n",
              "    <path d=\"M0 0h24v24H0V0z\" fill=\"none\"/>\n",
              "    <path d=\"M18.56 5.44l.94 2.06.94-2.06 2.06-.94-2.06-.94-.94-2.06-.94 2.06-2.06.94zm-11 1L8.5 8.5l.94-2.06 2.06-.94-2.06-.94L8.5 2.5l-.94 2.06-2.06.94zm10 10l.94 2.06.94-2.06 2.06-.94-2.06-.94-.94-2.06-.94 2.06-2.06.94z\"/><path d=\"M17.41 7.96l-1.37-1.37c-.4-.4-.92-.59-1.43-.59-.52 0-1.04.2-1.43.59L10.3 9.45l-7.72 7.72c-.78.78-.78 2.05 0 2.83L4 21.41c.39.39.9.59 1.41.59.51 0 1.02-.2 1.41-.59l7.78-7.78 2.81-2.81c.8-.78.8-2.07 0-2.86zM5.41 20L4 18.59l7.72-7.72 1.47 1.35L5.41 20z\"/>\n",
              "  </svg>\n",
              "      </button>\n",
              "      \n",
              "  <style>\n",
              "    .colab-df-container {\n",
              "      display:flex;\n",
              "      flex-wrap:wrap;\n",
              "      gap: 12px;\n",
              "    }\n",
              "\n",
              "    .colab-df-convert {\n",
              "      background-color: #E8F0FE;\n",
              "      border: none;\n",
              "      border-radius: 50%;\n",
              "      cursor: pointer;\n",
              "      display: none;\n",
              "      fill: #1967D2;\n",
              "      height: 32px;\n",
              "      padding: 0 0 0 0;\n",
              "      width: 32px;\n",
              "    }\n",
              "\n",
              "    .colab-df-convert:hover {\n",
              "      background-color: #E2EBFA;\n",
              "      box-shadow: 0px 1px 2px rgba(60, 64, 67, 0.3), 0px 1px 3px 1px rgba(60, 64, 67, 0.15);\n",
              "      fill: #174EA6;\n",
              "    }\n",
              "\n",
              "    [theme=dark] .colab-df-convert {\n",
              "      background-color: #3B4455;\n",
              "      fill: #D2E3FC;\n",
              "    }\n",
              "\n",
              "    [theme=dark] .colab-df-convert:hover {\n",
              "      background-color: #434B5C;\n",
              "      box-shadow: 0px 1px 3px 1px rgba(0, 0, 0, 0.15);\n",
              "      filter: drop-shadow(0px 1px 2px rgba(0, 0, 0, 0.3));\n",
              "      fill: #FFFFFF;\n",
              "    }\n",
              "  </style>\n",
              "\n",
              "      <script>\n",
              "        const buttonEl =\n",
              "          document.querySelector('#df-897f4a7a-fcc1-4c3c-a09b-8a53b661e060 button.colab-df-convert');\n",
              "        buttonEl.style.display =\n",
              "          google.colab.kernel.accessAllowed ? 'block' : 'none';\n",
              "\n",
              "        async function convertToInteractive(key) {\n",
              "          const element = document.querySelector('#df-897f4a7a-fcc1-4c3c-a09b-8a53b661e060');\n",
              "          const dataTable =\n",
              "            await google.colab.kernel.invokeFunction('convertToInteractive',\n",
              "                                                     [key], {});\n",
              "          if (!dataTable) return;\n",
              "\n",
              "          const docLinkHtml = 'Like what you see? Visit the ' +\n",
              "            '<a target=\"_blank\" href=https://colab.research.google.com/notebooks/data_table.ipynb>data table notebook</a>'\n",
              "            + ' to learn more about interactive tables.';\n",
              "          element.innerHTML = '';\n",
              "          dataTable['output_type'] = 'display_data';\n",
              "          await google.colab.output.renderOutput(dataTable, element);\n",
              "          const docLink = document.createElement('div');\n",
              "          docLink.innerHTML = docLinkHtml;\n",
              "          element.appendChild(docLink);\n",
              "        }\n",
              "      </script>\n",
              "    </div>\n",
              "  </div>\n",
              "  "
            ]
          },
          "metadata": {},
          "execution_count": 13
        }
      ],
      "source": [
        "cols = ['angle(X,gravityMean)', 'tGravityAcc-min()-X', 'tGravityAcc-mean()-Y', 'tGravityAcc-mean()-X',\n",
        "        'tBodyAcc-mad()-X']\n",
        "X_train = train[cols]\n",
        "X_test = test[cols]\n",
        "X_train.head()"
      ]
    },
    {
      "cell_type": "code",
      "execution_count": 14,
      "metadata": {
        "colab": {
          "base_uri": "https://localhost:8080/"
        },
        "id": "fjmn1VbpO0eO",
        "outputId": "99ac74d2-8d5e-4936-fb1c-5c52d7e1fe40"
      },
      "outputs": [
        {
          "output_type": "stream",
          "name": "stdout",
          "text": [
            "K Nearest Neighbors Train Accuracy : 0.9534820457018498\n",
            "K Nearest Neighbors Test Accuracy : 0.6963013233797082\n"
          ]
        }
      ],
      "source": [
        "knn = KNeighborsClassifier()\n",
        "knn.fit(X_train,Y_train_encoded)\n",
        "print (\"K Nearest Neighbors Train Accuracy : {}\".format(accuracy_score(Y_train_encoded,knn.predict(X_train))))\n",
        "print (\"K Nearest Neighbors Test Accuracy : {}\".format(accuracy_score(Y_test_encoded,knn.predict(X_test))))"
      ]
    },
    {
      "cell_type": "code",
      "execution_count": 15,
      "metadata": {
        "colab": {
          "base_uri": "https://localhost:8080/",
          "height": 505
        },
        "id": "GA_UzlG9O0eP",
        "outputId": "946e959e-be1e-4c8f-c957-6cafa889c2f0"
      },
      "outputs": [
        {
          "output_type": "execute_result",
          "data": {
            "text/plain": [
              "        tBodyAcc-mean()-X  tBodyAcc-mean()-Y  tBodyAcc-mean()-Z  \\\n",
              "count         7352.000000        7352.000000        7352.000000   \n",
              "unique                NaN                NaN                NaN   \n",
              "top                   NaN                NaN                NaN   \n",
              "freq                  NaN                NaN                NaN   \n",
              "mean             0.274488          -0.017695          -0.109141   \n",
              "std              0.070261           0.040811           0.056635   \n",
              "min             -1.000000          -1.000000          -1.000000   \n",
              "25%              0.262975          -0.024863          -0.120993   \n",
              "50%              0.277193          -0.017219          -0.108676   \n",
              "75%              0.288461          -0.010783          -0.097794   \n",
              "max              1.000000           1.000000           1.000000   \n",
              "\n",
              "        tBodyAcc-std()-X  tBodyAcc-std()-Y  tBodyAcc-std()-Z  \\\n",
              "count        7352.000000       7352.000000       7352.000000   \n",
              "unique               NaN               NaN               NaN   \n",
              "top                  NaN               NaN               NaN   \n",
              "freq                 NaN               NaN               NaN   \n",
              "mean           -0.605438         -0.510938         -0.604754   \n",
              "std             0.448734          0.502645          0.418687   \n",
              "min            -1.000000         -0.999873         -1.000000   \n",
              "25%            -0.992754         -0.978129         -0.980233   \n",
              "50%            -0.946196         -0.851897         -0.859365   \n",
              "75%            -0.242813         -0.034231         -0.262415   \n",
              "max             1.000000          0.916238          1.000000   \n",
              "\n",
              "        tBodyAcc-mad()-X  tBodyAcc-mad()-Y  tBodyAcc-mad()-Z  \\\n",
              "count        7352.000000       7352.000000       7352.000000   \n",
              "unique               NaN               NaN               NaN   \n",
              "top                  NaN               NaN               NaN   \n",
              "freq                 NaN               NaN               NaN   \n",
              "mean           -0.630512         -0.526907         -0.606150   \n",
              "std             0.424073          0.485942          0.414122   \n",
              "min            -1.000000         -1.000000         -1.000000   \n",
              "25%            -0.993591         -0.978162         -0.980251   \n",
              "50%            -0.950709         -0.857328         -0.857143   \n",
              "75%            -0.292680         -0.066701         -0.265671   \n",
              "max             1.000000          0.967664          1.000000   \n",
              "\n",
              "        tBodyAcc-max()-X  ...  fBodyBodyGyroJerkMag-kurtosis()  \\\n",
              "count        7352.000000  ...                      7352.000000   \n",
              "unique               NaN  ...                              NaN   \n",
              "top                  NaN  ...                              NaN   \n",
              "freq                 NaN  ...                              NaN   \n",
              "mean           -0.468604  ...                        -0.625294   \n",
              "std             0.544547  ...                         0.307584   \n",
              "min            -1.000000  ...                        -0.999765   \n",
              "25%            -0.936219  ...                        -0.845573   \n",
              "50%            -0.881637  ...                        -0.711692   \n",
              "75%            -0.017129  ...                        -0.503878   \n",
              "max             1.000000  ...                         0.956845   \n",
              "\n",
              "        angle(tBodyAccMean,gravity)  angle(tBodyAccJerkMean),gravityMean)  \\\n",
              "count                   7352.000000                           7352.000000   \n",
              "unique                          NaN                                   NaN   \n",
              "top                             NaN                                   NaN   \n",
              "freq                            NaN                                   NaN   \n",
              "mean                       0.008684                              0.002186   \n",
              "std                        0.336787                              0.448306   \n",
              "min                       -0.976580                             -1.000000   \n",
              "25%                       -0.121527                             -0.289549   \n",
              "50%                        0.009509                              0.008943   \n",
              "75%                        0.150865                              0.292861   \n",
              "max                        1.000000                              1.000000   \n",
              "\n",
              "        angle(tBodyGyroMean,gravityMean)  \\\n",
              "count                        7352.000000   \n",
              "unique                               NaN   \n",
              "top                                  NaN   \n",
              "freq                                 NaN   \n",
              "mean                            0.008726   \n",
              "std                             0.608303   \n",
              "min                            -1.000000   \n",
              "25%                            -0.482273   \n",
              "50%                             0.008735   \n",
              "75%                             0.506187   \n",
              "max                             0.998702   \n",
              "\n",
              "        angle(tBodyGyroJerkMean,gravityMean)  angle(X,gravityMean)  \\\n",
              "count                            7352.000000           7352.000000   \n",
              "unique                                   NaN                   NaN   \n",
              "top                                      NaN                   NaN   \n",
              "freq                                     NaN                   NaN   \n",
              "mean                               -0.005981             -0.489547   \n",
              "std                                 0.477975              0.511807   \n",
              "min                                -1.000000             -1.000000   \n",
              "25%                                -0.376341             -0.812065   \n",
              "50%                                -0.000368             -0.709417   \n",
              "75%                                 0.359368             -0.509079   \n",
              "max                                 0.996078              1.000000   \n",
              "\n",
              "        angle(Y,gravityMean)  angle(Z,gravityMean)      subject  Activity  \n",
              "count            7352.000000           7352.000000  7352.000000      7352  \n",
              "unique                   NaN                   NaN          NaN         6  \n",
              "top                      NaN                   NaN          NaN    LAYING  \n",
              "freq                     NaN                   NaN          NaN      1407  \n",
              "mean                0.058593             -0.056515    17.413085       NaN  \n",
              "std                 0.297480              0.279122     8.975143       NaN  \n",
              "min                -1.000000             -1.000000     1.000000       NaN  \n",
              "25%                -0.017885             -0.143414     8.000000       NaN  \n",
              "50%                 0.182071              0.003181    19.000000       NaN  \n",
              "75%                 0.248353              0.107659    26.000000       NaN  \n",
              "max                 0.478157              1.000000    30.000000       NaN  \n",
              "\n",
              "[11 rows x 563 columns]"
            ],
            "text/html": [
              "\n",
              "  <div id=\"df-f870e047-66ce-4448-91b1-f2acb75fe0fb\">\n",
              "    <div class=\"colab-df-container\">\n",
              "      <div>\n",
              "<style scoped>\n",
              "    .dataframe tbody tr th:only-of-type {\n",
              "        vertical-align: middle;\n",
              "    }\n",
              "\n",
              "    .dataframe tbody tr th {\n",
              "        vertical-align: top;\n",
              "    }\n",
              "\n",
              "    .dataframe thead th {\n",
              "        text-align: right;\n",
              "    }\n",
              "</style>\n",
              "<table border=\"1\" class=\"dataframe\">\n",
              "  <thead>\n",
              "    <tr style=\"text-align: right;\">\n",
              "      <th></th>\n",
              "      <th>tBodyAcc-mean()-X</th>\n",
              "      <th>tBodyAcc-mean()-Y</th>\n",
              "      <th>tBodyAcc-mean()-Z</th>\n",
              "      <th>tBodyAcc-std()-X</th>\n",
              "      <th>tBodyAcc-std()-Y</th>\n",
              "      <th>tBodyAcc-std()-Z</th>\n",
              "      <th>tBodyAcc-mad()-X</th>\n",
              "      <th>tBodyAcc-mad()-Y</th>\n",
              "      <th>tBodyAcc-mad()-Z</th>\n",
              "      <th>tBodyAcc-max()-X</th>\n",
              "      <th>...</th>\n",
              "      <th>fBodyBodyGyroJerkMag-kurtosis()</th>\n",
              "      <th>angle(tBodyAccMean,gravity)</th>\n",
              "      <th>angle(tBodyAccJerkMean),gravityMean)</th>\n",
              "      <th>angle(tBodyGyroMean,gravityMean)</th>\n",
              "      <th>angle(tBodyGyroJerkMean,gravityMean)</th>\n",
              "      <th>angle(X,gravityMean)</th>\n",
              "      <th>angle(Y,gravityMean)</th>\n",
              "      <th>angle(Z,gravityMean)</th>\n",
              "      <th>subject</th>\n",
              "      <th>Activity</th>\n",
              "    </tr>\n",
              "  </thead>\n",
              "  <tbody>\n",
              "    <tr>\n",
              "      <th>count</th>\n",
              "      <td>7352.000000</td>\n",
              "      <td>7352.000000</td>\n",
              "      <td>7352.000000</td>\n",
              "      <td>7352.000000</td>\n",
              "      <td>7352.000000</td>\n",
              "      <td>7352.000000</td>\n",
              "      <td>7352.000000</td>\n",
              "      <td>7352.000000</td>\n",
              "      <td>7352.000000</td>\n",
              "      <td>7352.000000</td>\n",
              "      <td>...</td>\n",
              "      <td>7352.000000</td>\n",
              "      <td>7352.000000</td>\n",
              "      <td>7352.000000</td>\n",
              "      <td>7352.000000</td>\n",
              "      <td>7352.000000</td>\n",
              "      <td>7352.000000</td>\n",
              "      <td>7352.000000</td>\n",
              "      <td>7352.000000</td>\n",
              "      <td>7352.000000</td>\n",
              "      <td>7352</td>\n",
              "    </tr>\n",
              "    <tr>\n",
              "      <th>unique</th>\n",
              "      <td>NaN</td>\n",
              "      <td>NaN</td>\n",
              "      <td>NaN</td>\n",
              "      <td>NaN</td>\n",
              "      <td>NaN</td>\n",
              "      <td>NaN</td>\n",
              "      <td>NaN</td>\n",
              "      <td>NaN</td>\n",
              "      <td>NaN</td>\n",
              "      <td>NaN</td>\n",
              "      <td>...</td>\n",
              "      <td>NaN</td>\n",
              "      <td>NaN</td>\n",
              "      <td>NaN</td>\n",
              "      <td>NaN</td>\n",
              "      <td>NaN</td>\n",
              "      <td>NaN</td>\n",
              "      <td>NaN</td>\n",
              "      <td>NaN</td>\n",
              "      <td>NaN</td>\n",
              "      <td>6</td>\n",
              "    </tr>\n",
              "    <tr>\n",
              "      <th>top</th>\n",
              "      <td>NaN</td>\n",
              "      <td>NaN</td>\n",
              "      <td>NaN</td>\n",
              "      <td>NaN</td>\n",
              "      <td>NaN</td>\n",
              "      <td>NaN</td>\n",
              "      <td>NaN</td>\n",
              "      <td>NaN</td>\n",
              "      <td>NaN</td>\n",
              "      <td>NaN</td>\n",
              "      <td>...</td>\n",
              "      <td>NaN</td>\n",
              "      <td>NaN</td>\n",
              "      <td>NaN</td>\n",
              "      <td>NaN</td>\n",
              "      <td>NaN</td>\n",
              "      <td>NaN</td>\n",
              "      <td>NaN</td>\n",
              "      <td>NaN</td>\n",
              "      <td>NaN</td>\n",
              "      <td>LAYING</td>\n",
              "    </tr>\n",
              "    <tr>\n",
              "      <th>freq</th>\n",
              "      <td>NaN</td>\n",
              "      <td>NaN</td>\n",
              "      <td>NaN</td>\n",
              "      <td>NaN</td>\n",
              "      <td>NaN</td>\n",
              "      <td>NaN</td>\n",
              "      <td>NaN</td>\n",
              "      <td>NaN</td>\n",
              "      <td>NaN</td>\n",
              "      <td>NaN</td>\n",
              "      <td>...</td>\n",
              "      <td>NaN</td>\n",
              "      <td>NaN</td>\n",
              "      <td>NaN</td>\n",
              "      <td>NaN</td>\n",
              "      <td>NaN</td>\n",
              "      <td>NaN</td>\n",
              "      <td>NaN</td>\n",
              "      <td>NaN</td>\n",
              "      <td>NaN</td>\n",
              "      <td>1407</td>\n",
              "    </tr>\n",
              "    <tr>\n",
              "      <th>mean</th>\n",
              "      <td>0.274488</td>\n",
              "      <td>-0.017695</td>\n",
              "      <td>-0.109141</td>\n",
              "      <td>-0.605438</td>\n",
              "      <td>-0.510938</td>\n",
              "      <td>-0.604754</td>\n",
              "      <td>-0.630512</td>\n",
              "      <td>-0.526907</td>\n",
              "      <td>-0.606150</td>\n",
              "      <td>-0.468604</td>\n",
              "      <td>...</td>\n",
              "      <td>-0.625294</td>\n",
              "      <td>0.008684</td>\n",
              "      <td>0.002186</td>\n",
              "      <td>0.008726</td>\n",
              "      <td>-0.005981</td>\n",
              "      <td>-0.489547</td>\n",
              "      <td>0.058593</td>\n",
              "      <td>-0.056515</td>\n",
              "      <td>17.413085</td>\n",
              "      <td>NaN</td>\n",
              "    </tr>\n",
              "    <tr>\n",
              "      <th>std</th>\n",
              "      <td>0.070261</td>\n",
              "      <td>0.040811</td>\n",
              "      <td>0.056635</td>\n",
              "      <td>0.448734</td>\n",
              "      <td>0.502645</td>\n",
              "      <td>0.418687</td>\n",
              "      <td>0.424073</td>\n",
              "      <td>0.485942</td>\n",
              "      <td>0.414122</td>\n",
              "      <td>0.544547</td>\n",
              "      <td>...</td>\n",
              "      <td>0.307584</td>\n",
              "      <td>0.336787</td>\n",
              "      <td>0.448306</td>\n",
              "      <td>0.608303</td>\n",
              "      <td>0.477975</td>\n",
              "      <td>0.511807</td>\n",
              "      <td>0.297480</td>\n",
              "      <td>0.279122</td>\n",
              "      <td>8.975143</td>\n",
              "      <td>NaN</td>\n",
              "    </tr>\n",
              "    <tr>\n",
              "      <th>min</th>\n",
              "      <td>-1.000000</td>\n",
              "      <td>-1.000000</td>\n",
              "      <td>-1.000000</td>\n",
              "      <td>-1.000000</td>\n",
              "      <td>-0.999873</td>\n",
              "      <td>-1.000000</td>\n",
              "      <td>-1.000000</td>\n",
              "      <td>-1.000000</td>\n",
              "      <td>-1.000000</td>\n",
              "      <td>-1.000000</td>\n",
              "      <td>...</td>\n",
              "      <td>-0.999765</td>\n",
              "      <td>-0.976580</td>\n",
              "      <td>-1.000000</td>\n",
              "      <td>-1.000000</td>\n",
              "      <td>-1.000000</td>\n",
              "      <td>-1.000000</td>\n",
              "      <td>-1.000000</td>\n",
              "      <td>-1.000000</td>\n",
              "      <td>1.000000</td>\n",
              "      <td>NaN</td>\n",
              "    </tr>\n",
              "    <tr>\n",
              "      <th>25%</th>\n",
              "      <td>0.262975</td>\n",
              "      <td>-0.024863</td>\n",
              "      <td>-0.120993</td>\n",
              "      <td>-0.992754</td>\n",
              "      <td>-0.978129</td>\n",
              "      <td>-0.980233</td>\n",
              "      <td>-0.993591</td>\n",
              "      <td>-0.978162</td>\n",
              "      <td>-0.980251</td>\n",
              "      <td>-0.936219</td>\n",
              "      <td>...</td>\n",
              "      <td>-0.845573</td>\n",
              "      <td>-0.121527</td>\n",
              "      <td>-0.289549</td>\n",
              "      <td>-0.482273</td>\n",
              "      <td>-0.376341</td>\n",
              "      <td>-0.812065</td>\n",
              "      <td>-0.017885</td>\n",
              "      <td>-0.143414</td>\n",
              "      <td>8.000000</td>\n",
              "      <td>NaN</td>\n",
              "    </tr>\n",
              "    <tr>\n",
              "      <th>50%</th>\n",
              "      <td>0.277193</td>\n",
              "      <td>-0.017219</td>\n",
              "      <td>-0.108676</td>\n",
              "      <td>-0.946196</td>\n",
              "      <td>-0.851897</td>\n",
              "      <td>-0.859365</td>\n",
              "      <td>-0.950709</td>\n",
              "      <td>-0.857328</td>\n",
              "      <td>-0.857143</td>\n",
              "      <td>-0.881637</td>\n",
              "      <td>...</td>\n",
              "      <td>-0.711692</td>\n",
              "      <td>0.009509</td>\n",
              "      <td>0.008943</td>\n",
              "      <td>0.008735</td>\n",
              "      <td>-0.000368</td>\n",
              "      <td>-0.709417</td>\n",
              "      <td>0.182071</td>\n",
              "      <td>0.003181</td>\n",
              "      <td>19.000000</td>\n",
              "      <td>NaN</td>\n",
              "    </tr>\n",
              "    <tr>\n",
              "      <th>75%</th>\n",
              "      <td>0.288461</td>\n",
              "      <td>-0.010783</td>\n",
              "      <td>-0.097794</td>\n",
              "      <td>-0.242813</td>\n",
              "      <td>-0.034231</td>\n",
              "      <td>-0.262415</td>\n",
              "      <td>-0.292680</td>\n",
              "      <td>-0.066701</td>\n",
              "      <td>-0.265671</td>\n",
              "      <td>-0.017129</td>\n",
              "      <td>...</td>\n",
              "      <td>-0.503878</td>\n",
              "      <td>0.150865</td>\n",
              "      <td>0.292861</td>\n",
              "      <td>0.506187</td>\n",
              "      <td>0.359368</td>\n",
              "      <td>-0.509079</td>\n",
              "      <td>0.248353</td>\n",
              "      <td>0.107659</td>\n",
              "      <td>26.000000</td>\n",
              "      <td>NaN</td>\n",
              "    </tr>\n",
              "    <tr>\n",
              "      <th>max</th>\n",
              "      <td>1.000000</td>\n",
              "      <td>1.000000</td>\n",
              "      <td>1.000000</td>\n",
              "      <td>1.000000</td>\n",
              "      <td>0.916238</td>\n",
              "      <td>1.000000</td>\n",
              "      <td>1.000000</td>\n",
              "      <td>0.967664</td>\n",
              "      <td>1.000000</td>\n",
              "      <td>1.000000</td>\n",
              "      <td>...</td>\n",
              "      <td>0.956845</td>\n",
              "      <td>1.000000</td>\n",
              "      <td>1.000000</td>\n",
              "      <td>0.998702</td>\n",
              "      <td>0.996078</td>\n",
              "      <td>1.000000</td>\n",
              "      <td>0.478157</td>\n",
              "      <td>1.000000</td>\n",
              "      <td>30.000000</td>\n",
              "      <td>NaN</td>\n",
              "    </tr>\n",
              "  </tbody>\n",
              "</table>\n",
              "<p>11 rows × 563 columns</p>\n",
              "</div>\n",
              "      <button class=\"colab-df-convert\" onclick=\"convertToInteractive('df-f870e047-66ce-4448-91b1-f2acb75fe0fb')\"\n",
              "              title=\"Convert this dataframe to an interactive table.\"\n",
              "              style=\"display:none;\">\n",
              "        \n",
              "  <svg xmlns=\"http://www.w3.org/2000/svg\" height=\"24px\"viewBox=\"0 0 24 24\"\n",
              "       width=\"24px\">\n",
              "    <path d=\"M0 0h24v24H0V0z\" fill=\"none\"/>\n",
              "    <path d=\"M18.56 5.44l.94 2.06.94-2.06 2.06-.94-2.06-.94-.94-2.06-.94 2.06-2.06.94zm-11 1L8.5 8.5l.94-2.06 2.06-.94-2.06-.94L8.5 2.5l-.94 2.06-2.06.94zm10 10l.94 2.06.94-2.06 2.06-.94-2.06-.94-.94-2.06-.94 2.06-2.06.94z\"/><path d=\"M17.41 7.96l-1.37-1.37c-.4-.4-.92-.59-1.43-.59-.52 0-1.04.2-1.43.59L10.3 9.45l-7.72 7.72c-.78.78-.78 2.05 0 2.83L4 21.41c.39.39.9.59 1.41.59.51 0 1.02-.2 1.41-.59l7.78-7.78 2.81-2.81c.8-.78.8-2.07 0-2.86zM5.41 20L4 18.59l7.72-7.72 1.47 1.35L5.41 20z\"/>\n",
              "  </svg>\n",
              "      </button>\n",
              "      \n",
              "  <style>\n",
              "    .colab-df-container {\n",
              "      display:flex;\n",
              "      flex-wrap:wrap;\n",
              "      gap: 12px;\n",
              "    }\n",
              "\n",
              "    .colab-df-convert {\n",
              "      background-color: #E8F0FE;\n",
              "      border: none;\n",
              "      border-radius: 50%;\n",
              "      cursor: pointer;\n",
              "      display: none;\n",
              "      fill: #1967D2;\n",
              "      height: 32px;\n",
              "      padding: 0 0 0 0;\n",
              "      width: 32px;\n",
              "    }\n",
              "\n",
              "    .colab-df-convert:hover {\n",
              "      background-color: #E2EBFA;\n",
              "      box-shadow: 0px 1px 2px rgba(60, 64, 67, 0.3), 0px 1px 3px 1px rgba(60, 64, 67, 0.15);\n",
              "      fill: #174EA6;\n",
              "    }\n",
              "\n",
              "    [theme=dark] .colab-df-convert {\n",
              "      background-color: #3B4455;\n",
              "      fill: #D2E3FC;\n",
              "    }\n",
              "\n",
              "    [theme=dark] .colab-df-convert:hover {\n",
              "      background-color: #434B5C;\n",
              "      box-shadow: 0px 1px 3px 1px rgba(0, 0, 0, 0.15);\n",
              "      filter: drop-shadow(0px 1px 2px rgba(0, 0, 0, 0.3));\n",
              "      fill: #FFFFFF;\n",
              "    }\n",
              "  </style>\n",
              "\n",
              "      <script>\n",
              "        const buttonEl =\n",
              "          document.querySelector('#df-f870e047-66ce-4448-91b1-f2acb75fe0fb button.colab-df-convert');\n",
              "        buttonEl.style.display =\n",
              "          google.colab.kernel.accessAllowed ? 'block' : 'none';\n",
              "\n",
              "        async function convertToInteractive(key) {\n",
              "          const element = document.querySelector('#df-f870e047-66ce-4448-91b1-f2acb75fe0fb');\n",
              "          const dataTable =\n",
              "            await google.colab.kernel.invokeFunction('convertToInteractive',\n",
              "                                                     [key], {});\n",
              "          if (!dataTable) return;\n",
              "\n",
              "          const docLinkHtml = 'Like what you see? Visit the ' +\n",
              "            '<a target=\"_blank\" href=https://colab.research.google.com/notebooks/data_table.ipynb>data table notebook</a>'\n",
              "            + ' to learn more about interactive tables.';\n",
              "          element.innerHTML = '';\n",
              "          dataTable['output_type'] = 'display_data';\n",
              "          await google.colab.output.renderOutput(dataTable, element);\n",
              "          const docLink = document.createElement('div');\n",
              "          docLink.innerHTML = docLinkHtml;\n",
              "          element.appendChild(docLink);\n",
              "        }\n",
              "      </script>\n",
              "    </div>\n",
              "  </div>\n",
              "  "
            ]
          },
          "metadata": {},
          "execution_count": 15
        }
      ],
      "source": [
        "train.describe(include='all')"
      ]
    },
    {
      "cell_type": "markdown",
      "metadata": {
        "id": "CMSCuqAnO0eP"
      },
      "source": [
        "## PCA"
      ]
    },
    {
      "cell_type": "code",
      "execution_count": 16,
      "metadata": {
        "colab": {
          "base_uri": "https://localhost:8080/"
        },
        "id": "Bbnj-crmO0eP",
        "outputId": "a4318023-df73-45bb-d04c-a6c1aea27312"
      },
      "outputs": [
        {
          "output_type": "stream",
          "name": "stdout",
          "text": [
            "(7352, 561) (7352, 10)\n",
            "(2947, 561) (2947, 10)\n"
          ]
        }
      ],
      "source": [
        "from sklearn.decomposition import PCA\n",
        "X_train = train.iloc[:,:-2]\n",
        "X_test = test.iloc[:,:-2]\n",
        "pca = PCA(n_components=10)\n",
        "pca.fit(X_train)\n",
        "X_train_pca = pca.transform(X_train)\n",
        "X_test_pca = pca.transform(X_test)\n",
        "print(X_train.shape,X_train_pca.shape)\n",
        "print(X_test.shape,X_test_pca.shape)"
      ]
    },
    {
      "cell_type": "code",
      "execution_count": 17,
      "metadata": {
        "colab": {
          "base_uri": "https://localhost:8080/"
        },
        "id": "PoMdFavuO0eQ",
        "outputId": "eeab1f02-9d4d-4f02-d7e9-ab2a9a73580d"
      },
      "outputs": [
        {
          "output_type": "stream",
          "name": "stdout",
          "text": [
            "K Nearest Neighbors Train Accuracy : 0.9390642002176278\n",
            "K Nearest Neighbors Test Accuracy : 0.8432304038004751\n"
          ]
        }
      ],
      "source": [
        "knn = KNeighborsClassifier().fit(X_train_pca,Y_train_encoded)\n",
        "print (\"K Nearest Neighbors Train Accuracy : {}\".format(accuracy_score(Y_train_encoded,knn.predict(X_train_pca))))\n",
        "print (\"K Nearest Neighbors Test Accuracy : {}\".format(accuracy_score(Y_test_encoded,knn.predict(X_test_pca))))"
      ]
    },
    {
      "cell_type": "code",
      "execution_count": 18,
      "metadata": {
        "colab": {
          "base_uri": "https://localhost:8080/"
        },
        "id": "_EXOBb7bO0eQ",
        "outputId": "c201f90e-a786-4ddd-b62a-c36f5eb1350a"
      },
      "outputs": [
        {
          "output_type": "stream",
          "name": "stdout",
          "text": [
            "10 : 0.8428910756701731\n",
            "20 : 0.8595181540549711\n",
            "30 : 0.8727519511367492\n",
            "40 : 0.8768238887003733\n",
            "50 : 0.8849677638276213\n",
            "60 : 0.8900576857821514\n",
            "70 : 0.8944689514760774\n",
            "80 : 0.8944689514760774\n",
            "90 : 0.8941296233457754\n",
            "100 : 0.8954869358669834\n",
            "110 : 0.8988802171700034\n",
            "120 : 0.8998982015609094\n",
            "130 : 0.9005768578215134\n",
            "140 : 0.9012555140821175\n",
            "150 : 0.9015948422124194\n",
            "160 : 0.9019341703427214\n",
            "170 : 0.9026128266033254\n",
            "180 : 0.9026128266033254\n",
            "190 : 0.9015948422124194\n",
            "200 : 0.9005768578215134\n",
            "210 : 0.9012555140821175\n",
            "220 : 0.9002375296912114\n",
            "230 : 0.9002375296912114\n",
            "240 : 0.9002375296912114\n",
            "250 : 0.9009161859518154\n"
          ]
        }
      ],
      "source": [
        "r = range(10,251,10)\n",
        "pca_scores = []\n",
        "for i in r:\n",
        "    pca = PCA(n_components=i,random_state=0).fit(X_train)\n",
        "    X_train_pca = pca.transform(X_train)\n",
        "    X_test_pca = pca.transform(X_test)\n",
        "    knn = KNeighborsClassifier().fit(X_train_pca,Y_train_encoded)\n",
        "    acc = accuracy_score(Y_test_encoded,knn.predict(X_test_pca))\n",
        "    pca_scores.append(acc)\n",
        "    print(\"{} : {}\".format(i,acc))"
      ]
    },
    {
      "cell_type": "code",
      "execution_count": 19,
      "metadata": {
        "colab": {
          "base_uri": "https://localhost:8080/",
          "height": 1000
        },
        "id": "pEhgImucO0eQ",
        "outputId": "f7ec6be5-b030-4539-b371-8bc42664b671"
      },
      "outputs": [
        {
          "output_type": "execute_result",
          "data": {
            "text/plain": [
              "([<matplotlib.axis.XTick at 0x7eff405c17d0>,\n",
              "  <matplotlib.axis.XTick at 0x7eff405c1110>,\n",
              "  <matplotlib.axis.XTick at 0x7eff43323f10>,\n",
              "  <matplotlib.axis.XTick at 0x7eff4055a450>,\n",
              "  <matplotlib.axis.XTick at 0x7eff405b63d0>,\n",
              "  <matplotlib.axis.XTick at 0x7eff405b6f90>,\n",
              "  <matplotlib.axis.XTick at 0x7eff405b6bd0>,\n",
              "  <matplotlib.axis.XTick at 0x7eff40567410>,\n",
              "  <matplotlib.axis.XTick at 0x7eff40567ad0>,\n",
              "  <matplotlib.axis.XTick at 0x7eff4056d710>,\n",
              "  <matplotlib.axis.XTick at 0x7eff4056de10>,\n",
              "  <matplotlib.axis.XTick at 0x7eff40572110>,\n",
              "  <matplotlib.axis.XTick at 0x7eff40572e90>,\n",
              "  <matplotlib.axis.XTick at 0x7eff4056da90>,\n",
              "  <matplotlib.axis.XTick at 0x7eff40572050>,\n",
              "  <matplotlib.axis.XTick at 0x7eff4055af10>,\n",
              "  <matplotlib.axis.XTick at 0x7eff40578910>,\n",
              "  <matplotlib.axis.XTick at 0x7eff40578b90>,\n",
              "  <matplotlib.axis.XTick at 0x7eff4057e6d0>,\n",
              "  <matplotlib.axis.XTick at 0x7eff4057ea10>,\n",
              "  <matplotlib.axis.XTick at 0x7eff40584250>,\n",
              "  <matplotlib.axis.XTick at 0x7eff40584d50>,\n",
              "  <matplotlib.axis.XTick at 0x7eff405846d0>,\n",
              "  <matplotlib.axis.XTick at 0x7eff4057ee90>,\n",
              "  <matplotlib.axis.XTick at 0x7eff4056db50>],\n",
              " <a list of 25 Text major ticklabel objects>)"
            ]
          },
          "metadata": {},
          "execution_count": 19
        },
        {
          "output_type": "display_data",
          "data": {
            "text/plain": [
              "<Figure size 720x720 with 1 Axes>"
            ],
            "image/png": "[encoded data removed]"
          },
          "metadata": {
            "needs_background": "light"
          }
        }
      ],
      "source": [
        "plt.figure(figsize=(10,10))\n",
        "plt.xlabel('n_components in PCA')\n",
        "plt.ylabel('Accuracy')\n",
        "plt.scatter(range(10,260,10),pca_scores)\n",
        "plt.xticks(range(10,260,10))"
      ]
    },
    {
      "cell_type": "code",
      "execution_count": 20,
      "metadata": {
        "colab": {
          "base_uri": "https://localhost:8080/"
        },
        "id": "Crby_Mm9O0eR",
        "outputId": "348d9330-de5f-4d88-ea6d-4c65799f1751"
      },
      "outputs": [
        {
          "output_type": "stream",
          "name": "stdout",
          "text": [
            "K Nearest Neighbors Train Accuracy : 0.9840859630032645\n",
            "K Nearest Neighbors Test Accuracy : 0.9026128266033254\n"
          ]
        }
      ],
      "source": [
        "pca = PCA(n_components=170,random_state=0).fit(X_train)\n",
        "X_train_pca = pca.transform(X_train)\n",
        "X_test_pca = pca.transform(X_test)\n",
        "knn = KNeighborsClassifier().fit(X_train_pca,Y_train_encoded)\n",
        "print (\"K Nearest Neighbors Train Accuracy : {}\".format(accuracy_score(Y_train_encoded,knn.predict(X_train_pca))))\n",
        "print (\"K Nearest Neighbors Test Accuracy : {}\".format(accuracy_score(Y_test_encoded,knn.predict(X_test_pca))))"
      ]
    },
    {
      "cell_type": "code",
      "execution_count": 21,
      "metadata": {
        "colab": {
          "base_uri": "https://localhost:8080/"
        },
        "id": "JKtXMmeiO0eR",
        "outputId": "430021b8-ff8d-4f47-9514-019595860db9"
      },
      "outputs": [
        {
          "output_type": "stream",
          "name": "stdout",
          "text": [
            "1 : 0.8775025449609772\n",
            "2 : 0.8666440447913132\n",
            "3 : 0.8934509670851714\n",
            "4 : 0.8954869358669834\n",
            "5 : 0.9026128266033254\n",
            "6 : 0.9012555140821175\n",
            "7 : 0.9022734984730234\n",
            "8 : 0.9056667797760435\n",
            "9 : 0.9043094672548354\n",
            "10 : 0.9056667797760435\n",
            "11 : 0.9032914828639295\n",
            "12 : 0.9026128266033254\n",
            "13 : 0.9036308109942314\n",
            "14 : 0.9060061079063454\n",
            "15 : 0.9039701391245334\n",
            "16 : 0.9063454360366474\n",
            "17 : 0.9080420766881574\n",
            "18 : 0.9070240922972514\n",
            "19 : 0.9053274516457415\n"
          ]
        }
      ],
      "source": [
        "pca_test_scores = []\n",
        "for i in range(1,20):\n",
        "    kn = KNeighborsClassifier(n_neighbors=i)\n",
        "    kn.fit(X_train_pca,Y_train_encoded)\n",
        "    acc = accuracy_score(Y_test_encoded,kn.predict(X_test_pca))\n",
        "    pca_test_scores.append(acc)\n",
        "    print(\"{} : {}\".format(i,acc))"
      ]
    },
    {
      "cell_type": "code",
      "execution_count": 22,
      "metadata": {
        "colab": {
          "base_uri": "https://localhost:8080/",
          "height": 536
        },
        "id": "WsGGfD3yO0eR",
        "outputId": "3705195b-36f6-46e4-c599-6185a5ed6da6"
      },
      "outputs": [
        {
          "output_type": "execute_result",
          "data": {
            "text/plain": [
              "([<matplotlib.axis.XTick at 0x7eff405bc610>,\n",
              "  <matplotlib.axis.XTick at 0x7eff40500b10>,\n",
              "  <matplotlib.axis.XTick at 0x7eff40500650>,\n",
              "  <matplotlib.axis.XTick at 0x7eff40519210>],\n",
              " <a list of 4 Text major ticklabel objects>)"
            ]
          },
          "metadata": {},
          "execution_count": 22
        },
        {
          "output_type": "display_data",
          "data": {
            "text/plain": [
              "<Figure size 720x504 with 1 Axes>"
            ],
            "image/png": "[encoded data removed]"
          },
          "metadata": {
            "needs_background": "light"
          }
        }
      ],
      "source": [
        "plt.figure(figsize=(10,7))\n",
        "plt.xlabel('neighbors in PCA')\n",
        "plt.ylabel('Accuracy')\n",
        "plt.scatter(range(1,20),pca_test_scores)\n",
        "plt.xticks(range(5,21,5))"
      ]
    },
    {
      "cell_type": "markdown",
      "metadata": {
        "id": "cXaMbejBO0eS"
      },
      "source": [
        "## Training model with 17 neighbors"
      ]
    },
    {
      "cell_type": "code",
      "execution_count": 23,
      "metadata": {
        "colab": {
          "base_uri": "https://localhost:8080/"
        },
        "id": "RN8cvtpKO0eS",
        "outputId": "5ca008ea-8a66-48fb-9477-9c720aa27016"
      },
      "outputs": [
        {
          "output_type": "stream",
          "name": "stdout",
          "text": [
            "K Nearest Neighbors Train Accuracy : 0.9677638737758433\n",
            "K Nearest Neighbors Test Accuracy : 0.9080420766881574\n"
          ]
        }
      ],
      "source": [
        "knn = KNeighborsClassifier(n_neighbors=17)\n",
        "knn.fit(X_train_pca,Y_train_encoded)\n",
        "print (\"K Nearest Neighbors Train Accuracy : {}\".format(accuracy_score(Y_train_encoded,knn.predict(X_train_pca))))\n",
        "print (\"K Nearest Neighbors Test Accuracy : {}\".format(accuracy_score(Y_test_encoded,knn.predict(X_test_pca))))"
      ]
    },
    {
      "cell_type": "code",
      "execution_count": 24,
      "metadata": {
        "colab": {
          "base_uri": "https://localhost:8080/",
          "height": 392
        },
        "id": "TsOHIzYTO0eS",
        "outputId": "59e432c3-8427-4e99-bc87-ae47265ebbd1"
      },
      "outputs": [
        {
          "output_type": "execute_result",
          "data": {
            "text/plain": [
              "<matplotlib.axes._subplots.AxesSubplot at 0x7eff404c8e90>"
            ]
          },
          "metadata": {},
          "execution_count": 24
        },
        {
          "output_type": "display_data",
          "data": {
            "text/plain": [
              "<Figure size 432x288 with 2 Axes>"
            ],
            "image/png": "[encoded data removed]"
          },
          "metadata": {
            "needs_background": "light"
          }
        }
      ],
      "source": [
        "from sklearn.metrics import confusion_matrix,precision_score,recall_score,f1_score\n",
        "sns.heatmap(data=confusion_matrix(Y_test_encoded,knn.predict(X_test_pca)),\n",
        "            fmt ='.0f',\n",
        "            annot=True,\n",
        "            xticklabels=np.unique(Y_test),\n",
        "            yticklabels=np.unique(Y_test))"
      ]
    },
    {
      "cell_type": "code",
      "execution_count": 25,
      "metadata": {
        "colab": {
          "base_uri": "https://localhost:8080/"
        },
        "id": "ZLN18sCkO0eS",
        "outputId": "8858e92c-b24a-43f2-bd18-433fda22e08d"
      },
      "outputs": [
        {
          "output_type": "stream",
          "name": "stdout",
          "text": [
            "Accuracy Score : 0.9080420766881574\n",
            "Precision Score: 0.9136591999334974\n",
            "Recall Acore : 0.9032581704019615\n",
            "F1 Score : 0.9050627447042512\n"
          ]
        }
      ],
      "source": [
        "print (\"Accuracy Score : {}\".format(accuracy_score(Y_test_encoded,knn.predict(X_test_pca))))\n",
        "print (\"Precision Score: {}\".format(precision_score(Y_test_encoded,knn.predict(X_test_pca),average='macro')))\n",
        "print (\"Recall Acore : {}\".format(recall_score(Y_test_encoded,knn.predict(X_test_pca),average='macro')))\n",
        "print (\"F1 Score : {}\".format(f1_score(Y_test_encoded,knn.predict(X_test_pca),average='macro')))"
      ]
    },
    {
      "cell_type": "code",
      "execution_count": 26,
      "metadata": {
        "colab": {
          "base_uri": "https://localhost:8080/"
        },
        "id": "NzUlNlZUO0eS",
        "outputId": "a5f9e98a-99c0-4b08-bf0e-692b88b88778"
      },
      "outputs": [
        {
          "output_type": "stream",
          "name": "stdout",
          "text": [
            "              precision    recall  f1-score   support\n",
            "\n",
            "           0       1.00      1.00      1.00       537\n",
            "           1       0.93      0.80      0.86       491\n",
            "           2       0.84      0.94      0.89       532\n",
            "           3       0.85      0.98      0.91       496\n",
            "           4       0.96      0.79      0.87       420\n",
            "           5       0.91      0.91      0.91       471\n",
            "\n",
            "    accuracy                           0.91      2947\n",
            "   macro avg       0.91      0.90      0.91      2947\n",
            "weighted avg       0.91      0.91      0.91      2947\n",
            "\n"
          ]
        }
      ],
      "source": [
        "from sklearn.metrics import classification_report\n",
        "print(classification_report(Y_test_encoded,knn.predict(X_test_pca)))"
      ]
    },
    {
      "cell_type": "code",
      "execution_count": 26,
      "metadata": {
        "collapsed": true,
        "id": "V0BA3zyAO0eT"
      },
      "outputs": [],
      "source": []
    }
  ],
  "metadata": {
    "kernelspec": {
      "display_name": "Python 3",
      "language": "python",
      "name": "python3"
    },
    "language_info": {
      "codemirror_mode": {
        "name": "ipython",
        "version": 3
      },
      "file_extension": ".py",
      "mimetype": "text/x-python",
      "name": "python",
      "nbconvert_exporter": "python",
      "pygments_lexer": "ipython3",
      "version": "3.6.1"
    },
    "colab": {
      "provenance": []
    }
  },
  "nbformat": 4,
  "nbformat_minor": 0
}